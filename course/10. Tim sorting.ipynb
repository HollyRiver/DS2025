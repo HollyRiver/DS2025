{
 "cells": [
  {
   "cell_type": "markdown",
   "id": "b74509f5",
   "metadata": {},
   "source": [
    "# Tim Sorting"
   ]
  },
  {
   "cell_type": "markdown",
   "id": "37e78780",
   "metadata": {},
   "source": [
    "`-` **Insertion Sort + Merge Sort**"
   ]
  },
  {
   "cell_type": "markdown",
   "id": "66e04c78",
   "metadata": {},
   "source": [
    "> 기본적으로 그룹을 쪼개는 Merge Sort의 방식을 채택\n",
    ">\n",
    "> 쪼개진 그룹의 크기가 일정 수준 미만일 경우 작을 때 효율적인 Insertion sort를 사용"
   ]
  },
  {
   "cell_type": "markdown",
   "id": "6fc1b06e",
   "metadata": {},
   "source": [
    "## 1. Insertion Sort : 삽입 정렬"
   ]
  },
  {
   "cell_type": "markdown",
   "id": "bbc94c3b",
   "metadata": {},
   "source": [
    "> 첫 번째 값을 삽입하고, 두 번째 값의 대소를 비교하여 삽입 순서를 바꿈\n",
    ">\n",
    "> 이미 삽입된 값들과 새로운 값들의 대소관계를 비교하면서 계속 삽입(오른쪽 값부터 고려함) -> 서브셋 크기 $m$에 대하여 $O(m^2)$\n",
    ">\n",
    "> Binary Insertion Sort : 이미 삽입된 값들 사이 어디에 들어오는지를 이진 탐색으로 결정 -> $O(m \\log m)$ -> 하지만 삽입 시에 이후의 값이 이동해야 하므로 $O(n^2)$\n",
    ">\n",
    "> 즉, 비교 연산에는 $O(n \\log n)$, 이동 연산에는 $O(n^2)$"
   ]
  },
  {
   "cell_type": "markdown",
   "id": "194e1ba9",
   "metadata": {},
   "source": [
    "## 2. Merge Sort : 병합 정렬"
   ]
  },
  {
   "cell_type": "markdown",
   "id": "693a3333",
   "metadata": {},
   "source": [
    "> 2분할되어 정렬된 셋을 하나의 정렬된 셋으로 바꾸는 정렬\n",
    ">\n",
    "> Tim Sort에서는 두 셋의 크기가 다를 수 있음"
   ]
  },
  {
   "cell_type": "markdown",
   "id": "59ea67d1",
   "metadata": {},
   "source": []
  }
 ],
 "metadata": {
  "language_info": {
   "name": "python"
  }
 },
 "nbformat": 4,
 "nbformat_minor": 5
}
