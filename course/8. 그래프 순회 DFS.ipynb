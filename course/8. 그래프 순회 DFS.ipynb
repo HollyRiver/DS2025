{
 "cells": [
  {
   "cell_type": "markdown",
   "id": "b717898a",
   "metadata": {},
   "source": [
    "# Graph Traversal : Depth First Search"
   ]
  },
  {
   "cell_type": "markdown",
   "id": "5440a52a",
   "metadata": {},
   "source": [
    "## 1. DFS"
   ]
  },
  {
   "cell_type": "markdown",
   "id": "c467ea60",
   "metadata": {},
   "source": [
    "`-` 트리에서의 search\n",
    "\n",
    "* preorder : M, c1, ..., ck\n",
    "* inorder : L, M, R -> 이진 트리가 아닌 경우에는 L/R을 정의하기 곤란하므로 배제\n",
    "* postorder : c1, ..., ck, M"
   ]
  },
  {
   "cell_type": "markdown",
   "id": "268846c7",
   "metadata": {},
   "source": [
    "`-` 그래프에서의 search\n",
    "\n",
    "* 사이클이 존재하기 때문에 트리와 다른 방식이 필요\n",
    "* DFS : 깊이 우선 탐색\n",
    "* BFS : 너비 우선 탐색"
   ]
  },
  {
   "cell_type": "markdown",
   "id": "ccfe01f0",
   "metadata": {},
   "source": [
    "`-` Depth\n",
    "\n",
    "* 노드에서부터 최단 링크 개수를 Depth로 정의\n",
    "* 낮은 depth부터 차례대로 순회, 적당한 규칙에 따라 방문\n",
    "* 더이상 갈 수 있는 곳이 없을 경우, 뒤로 가면서 방문하지 않았던 곳이 있는지 확인\n",
    "* BFS는 같은 depth인 것을 전부 방문한 뒤 다음 depth를 방문"
   ]
  },
  {
   "cell_type": "markdown",
   "id": "efda229d",
   "metadata": {},
   "source": [
    "## 2. 구현"
   ]
  },
  {
   "cell_type": "markdown",
   "id": "e78a7158",
   "metadata": {},
   "source": [
    "```{raw}\n",
    "algorithm DFS(v) :\n",
    "    ## v를 방문중\n",
    "    mark[v] = True\n",
    "    pre[v] = curr_time ## v의 첫 번째 방문 시간(이동 단위)\n",
    "    curr_time += 1\n",
    "\n",
    "    ## v에 인접한 모든 노드를 고려함\n",
    "    for w in G[v] :\n",
    "        ## 마킹되지 않았다면 들어감\n",
    "        if not mark[w] :\n",
    "            parent[w] = v ## DFS로 얻어진 트리를 정의\n",
    "            DFS(w)\n",
    "\n",
    "    post[v] = curr_time ## v에서 DFS가 완료된 시간\n",
    "    curr_time += 1\n",
    "\n",
    "\n",
    "algorithm DFSALL(G) :\n",
    "    ## 그래프 자체가 전부 이어지지 않은 경우\n",
    "    for v in G :\n",
    "        mark[v] = False\n",
    "    \n",
    "    for v in G :\n",
    "        if not mark[v] :\n",
    "            DFS(v)\n",
    "```"
   ]
  },
  {
   "cell_type": "markdown",
   "id": "4271941f",
   "metadata": {},
   "source": [
    "`-` 비재귀적인 코드로 구현\n",
    "\n",
    "```{raw}\n",
    "algorithm DFS(s) :\n",
    "    ## s부터 DFS 시작\n",
    "    stack.push((None, s)) ## 부모노드로부터 현재 방문노드로 넘어옴\n",
    "    pre[s] = curr_time\n",
    "    curr_time += 1\n",
    "\n",
    "    while len(stack) > 0 :\n",
    "        p, v = stack.pop() ## 부모노드와 현재 방문노드\n",
    "        pre[v] = curr_time\n",
    "        curr_time += 1\n",
    "\n",
    "        if not mark[v] :\n",
    "            mark[v] = True\n",
    "            parent[v] = p\n",
    "\n",
    "            for w in reversed(G[v]) :\n",
    "                if not mark[w] :\n",
    "                    stack.push((v, w)) ## v에서 연결된 w로 넘어옴\n",
    "\n",
    "    post[s] = curr_time\n",
    "    curr_time += 1\n",
    "```"
   ]
  },
  {
   "cell_type": "markdown",
   "id": "4fcf8138",
   "metadata": {},
   "source": [
    "* 그래프를 트리로 변환하는 과정에서 Back Edge가 발생 -> 그래프에 Cycle이 존재한다는 의미\n",
    "* pre-post time에 대하여 포함관계를 살펴보면 트리를 쉽게 구할 수 있음"
   ]
  },
  {
   "cell_type": "markdown",
   "id": "1fde2445",
   "metadata": {},
   "source": [
    "## 3. Diredted Acycle Graph : 사이클이 없는 방향 그래프"
   ]
  },
  {
   "cell_type": "markdown",
   "id": "014c3081",
   "metadata": {},
   "source": [
    "리턴이 필요한 공정에서 사용될 수 있음"
   ]
  },
  {
   "cell_type": "markdown",
   "id": "f49c3764",
   "metadata": {},
   "source": [
    "* 루트 노드에서 출발\n",
    "* 다음 노드에서 진입하는 값이 모자라면(들어오는 방향의 노드가 추가적으로 존재하면) 대기, 그렇지 않으면 진입\n",
    "* 해당 과정을 반복하며 리프 노드까지 순회\n",
    "\n",
    "> Topological Sorting 위상 정렬"
   ]
  },
  {
   "cell_type": "markdown",
   "id": "ba657268",
   "metadata": {},
   "source": [
    "`-` DFS로 하는 경우\n",
    "\n",
    "* pre/post time에서 post time이 가장 먼저 끝나는 노드 : 나갈 노드가 없고 받기만 하니까, Topological Sorting에서 가장 마지막\n",
    "* post time이 빠른 순서대로 정렬하면 Topological Sorting 가능"
   ]
  },
  {
   "cell_type": "markdown",
   "id": "63cf25f6",
   "metadata": {},
   "source": []
  }
 ],
 "metadata": {
  "kernelspec": {
   "display_name": "base",
   "language": "python",
   "name": "python3"
  },
  "language_info": {
   "name": "python",
   "version": "3.12.7"
  }
 },
 "nbformat": 4,
 "nbformat_minor": 5
}
