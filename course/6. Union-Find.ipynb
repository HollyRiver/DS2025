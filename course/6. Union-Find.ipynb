{
 "cells": [
  {
   "cell_type": "markdown",
   "id": "e067b270",
   "metadata": {},
   "source": [
    "# Union-Find (disjoint)"
   ]
  },
  {
   "cell_type": "markdown",
   "id": "5d26a9ad",
   "metadata": {},
   "source": [
    "## 1. 집합"
   ]
  },
  {
   "cell_type": "markdown",
   "id": "4d66613f",
   "metadata": {},
   "source": [
    "* membership 연산 : 집합 S 안에 포함되어 있는지 여부\n",
    "* 집합 연산 : union, intersect, difference"
   ]
  },
  {
   "cell_type": "markdown",
   "id": "5480e1da",
   "metadata": {},
   "source": [
    "`-` 파이썬 `set()`\n",
    "\n",
    "```Python\n",
    "a = set() ## ∮\n",
    "b = {1, 2, 3, 1} ## {1, 2, 3}\n",
    "```"
   ]
  },
  {
   "cell_type": "markdown",
   "id": "0352c93e",
   "metadata": {},
   "source": [
    "`-` `make_set(x)` : key인 x를 셋으로 만듦"
   ]
  },
  {
   "cell_type": "markdown",
   "id": "0b9a44b7",
   "metadata": {},
   "source": [
    "`-` `find(x)` : x가 속한 집합을 리턴"
   ]
  },
  {
   "cell_type": "markdown",
   "id": "f1353a4a",
   "metadata": {},
   "source": [
    "`-` `union(x, y)` : x가 속한 집합과 y가 속한 집합을 union"
   ]
  },
  {
   "cell_type": "markdown",
   "id": "b61d5302",
   "metadata": {},
   "source": [
    "> `find, union` 연산을 $O(\\log n)$ 안에 구현하는 것이 목표"
   ]
  },
  {
   "cell_type": "markdown",
   "id": "c241a36c",
   "metadata": {},
   "source": [
    "1. 원형 양방향 연결 리스트\n",
    "\n",
    "> `make_set(x)` : 길이가 1인 연결 리스트 생성 -> $O(1)$\n",
    ">\n",
    "> `find(x)` : 해당 노드에서 한쪽으로 따라가며 헤드 노드를 찾아 반환 -> $O(n)$\n",
    ">\n",
    "> `union(x, y)` : 헤드 노드를 찾아 같은지 확인하고, 테일 노드를 끊어서 연결 -> $O(n)$\n",
    "\n",
    "\n",
    "2. 트리 : 부모 링크만 가지고 있는 트리. 루트 노드는 자기 자신을 부모로 가짐\n",
    "\n",
    "> `make_set(x)` : 자기 자신을 부모로 가지는 트리 생성 -> $O(1)$\n",
    "> \n",
    "> `find(x)` : 루트 노드를 반환 -> $O(h)$\n",
    ">\n",
    "> `union(x, y)` : 루트 노드를 찾아 같은지 확인하고, 하나의 루트 노드를 다른 루트 노드에 종속 -> $O(h)$"
   ]
  },
  {
   "cell_type": "markdown",
   "id": "3a63806b",
   "metadata": {},
   "source": [
    "`-` 트리에서의 `union(x, y)`\n",
    "\n",
    "```{raw}\n",
    "def union(x, y) :\n",
    "    v = find(x)\n",
    "    w = find(y)\n",
    "\n",
    "    if v != w :\n",
    "        if v.height > w.height :\n",
    "            w.parent = v\n",
    "        else :\n",
    "            v.parent = w ## height가 같으면 height 증가\n",
    "```"
   ]
  },
  {
   "cell_type": "code",
   "execution_count": 8,
   "id": "5c45361d",
   "metadata": {},
   "outputs": [],
   "source": [
    "class Node :\n",
    "    def __init__(self, key) :\n",
    "        self.key = key\n",
    "        self.parent = self ## Root Node\n",
    "        self.rank = 0 ## Union-Find에서는 height를 관례적으로 rank라고 부름\n",
    "        \n",
    "    def __repr__(self) :\n",
    "        return str(self.key)\n",
    "    \n",
    "    def __str__(self) :\n",
    "        return self.key\n",
    "        \n",
    "def makeset(x) :\n",
    "    return Node(x)\n",
    "\n",
    "def find(x) :\n",
    "    while x.parent != x :\n",
    "        x = x.parent\n",
    "    \n",
    "    return x\n",
    "\n",
    "def union(x, y) :\n",
    "    v, w = find(x), find(y)\n",
    "    \n",
    "    if v == w :\n",
    "        return None\n",
    "    else :\n",
    "        if v.rank > w.rank :\n",
    "            w.parent = v\n",
    "        else :\n",
    "            v.parent = w\n",
    "            \n",
    "            if v.rank == w.rank :\n",
    "                w.rank += 1\n",
    "\n",
    "a = makeset(1)\n",
    "b = makeset(2)\n",
    "c = makeset(3)\n",
    "d = makeset(4)\n",
    "e = makeset(5)"
   ]
  },
  {
   "cell_type": "code",
   "execution_count": 14,
   "id": "de01f577",
   "metadata": {},
   "outputs": [],
   "source": [
    "union(a, b)\n",
    "union(a, c)\n",
    "union(d, e)\n",
    "union(c, d)"
   ]
  },
  {
   "cell_type": "code",
   "execution_count": 22,
   "id": "d7de8f91",
   "metadata": {},
   "outputs": [
    {
     "name": "stdout",
     "output_type": "stream",
     "text": [
      "(5, 5)\n"
     ]
    }
   ],
   "source": [
    "print((e, e.parent))"
   ]
  },
  {
   "cell_type": "markdown",
   "id": "73ff1e6e",
   "metadata": {},
   "source": [
    "`-` 이런 방식으로 유니온하면 결국 h는 얼마인가?\n",
    "\n",
    "> 합칠 트리의 랭크가 동일할 때만 h가 증가함 -> 두 개를 합칠 때 노드 개수는 두배로 증가함\n",
    ">\n",
    "> 따라서 랭크가 선형으로 증가할 때 노드 수는 지수 스케일로 증가하므로 랭크는 -> $O(\\log n)$\n",
    "\n",
    "$$N_h ≥ 2\\times N_{h-1} ≥ \\cdots ≥ 2^{h} N_0 = 2^h \\\\\n",
    "\\therefore h ≤ \\log_2 n$$\n",
    "\n",
    "> 만약 `find`시에 조금 더 신경을 잘 써주면 평균적으로 더 좋은 시간을 보장할 수 있음"
   ]
  },
  {
   "cell_type": "markdown",
   "id": "cc454f05",
   "metadata": {},
   "source": []
  }
 ],
 "metadata": {
  "kernelspec": {
   "display_name": "base",
   "language": "python",
   "name": "python3"
  },
  "language_info": {
   "codemirror_mode": {
    "name": "ipython",
    "version": 3
   },
   "file_extension": ".py",
   "mimetype": "text/x-python",
   "name": "python",
   "nbconvert_exporter": "python",
   "pygments_lexer": "ipython3",
   "version": "3.12.7"
  }
 },
 "nbformat": 4,
 "nbformat_minor": 5
}
