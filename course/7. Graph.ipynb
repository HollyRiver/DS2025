{
 "cells": [
  {
   "cell_type": "markdown",
   "id": "a73efea5",
   "metadata": {},
   "source": [
    "# 그래프 자료구조"
   ]
  },
  {
   "cell_type": "markdown",
   "id": "6cbbeae7",
   "metadata": {},
   "source": [
    "## 1. 정의와 표현법"
   ]
  },
  {
   "cell_type": "markdown",
   "id": "aecacb9a",
   "metadata": {},
   "source": [
    "가장 복잡한(일반적인) 자료구조"
   ]
  },
  {
   "cell_type": "markdown",
   "id": "d2bbea54",
   "metadata": {},
   "source": [
    "* G = (V, E) Vertex set, Edge set\n",
    "\n",
    "ex)\n",
    "\n",
    "```{raw}\n",
    "V = {1, 2, 3, 4, 5, 6} ## 노드\n",
    "E = {(1,2), (2,5), (1,5), ... , (6,4)} ## 노드 간 링크\n",
    "```\n",
    "\n",
    "* 언어 간 상관성, 지하철 노선, 비행기 노선도 등도 그래프로 표현할 수 있음"
   ]
  },
  {
   "cell_type": "markdown",
   "id": "64ac98da",
   "metadata": {},
   "source": [
    "`-` 용어\n",
    "\n",
    "* 칸으로 표현된 값이 들어가는 공간을 Vertex, Node라고 함\n",
    "* 두 정점을 연결하는 것을 Edge, Link라고 함\n",
    "* 특정 노드에 연결된 링크의 수를 분지수 Degree라고 함\n",
    "* 전체 그래프 G의 분지수 Degree는 가장 큰 분지수를 가지는 링크의 분지수\n",
    "* 노드가 엣지로 연결되어 있으면 해당 노드는 인접함 adjacent\n",
    "* 엣지 E는 연결시키는 노드에 인접함 incident\n",
    "* 정점에서 정점을 가는 경로 Path 표현 가능 -> 이 때 경로상에 존재하는 노드는 겹치면 안됨\n",
    "* 어떤 노드에서 출발하여 자신의 노드로 돌아오는 사이클 Cycle 표현 가능 -> 그래프에 없을 수 있으며 많을 수도 있음 : 한 방향 연결 리스트, 트리\n",
    "* 사이클이 하나도 없다면 두 노드를 연결하는 경로는 유일"
   ]
  },
  {
   "cell_type": "markdown",
   "id": "880d50ad",
   "metadata": {},
   "source": [
    "`-` 그래프 표현법 -> 인접성\n",
    "\n",
    "1. 인접 행렬 adjacency matrix\n",
    "2. 인접 리스트 adjacency list (양방향 연결 리스트)\n",
    "\n",
    "* 일반적으로 Undiredted Graph 무방향 그래프 : 링크의 방향이 일방적이지 않음\n",
    "* Directed Graph 방향 그래프도 있음"
   ]
  },
  {
   "cell_type": "markdown",
   "id": "115633ea",
   "metadata": {},
   "source": [
    "`-` Adjacency Matrix\n",
    "\n",
    "* 원소를 2차원 행렬로 나타낸 후, 링크가 있으면 1, 없으면 0으로 나타냄 -> 무방향 그래프일 경우 대칭 행렬로 표현됨\n",
    "* 자기 자신-대각원소는 링크가 있다고 해도 되고, 없다고 해도 되지만 일관성은 지켜야 함\n",
    "* 없는 정보를 표현하기 위해 많은 메모리가 소모될 수 있음 -> 가변 링크인 경우 유리하지 않을까?\n",
    "\n",
    "`-` Adjacency List\n",
    "\n",
    "* 엣지만 연결 리스트로 표현하는 방식\n",
    "* 리스트로 표현된 그래프 G의 각 원소에 자기와 연결된 이웃한 노드들을 연결 리스트의 형태로 저장. 정렬될 필요는 없음.\n",
    "* 무방향 그래프이므로 엣지 수의 두 배만 사용하며, 필요한 메모리만 사용함\n",
    "\n",
    "`-` Weight\n",
    "\n",
    "* 엣지마다 가중치를 부여할 수 있음 : 비용 등\n",
    "* 행렬에선 링크 값을 변경함으로써 표현 가능\n",
    "* 연결 리스트에서는 노드 아이디 이외 멤버를 하나 더 넣어 표현 가능"
   ]
  },
  {
   "cell_type": "markdown",
   "id": "71164659",
   "metadata": {},
   "source": [
    "## 2. 그래프 기본연산"
   ]
  },
  {
   "cell_type": "markdown",
   "id": "076a8f99",
   "metadata": {},
   "source": [
    "`-` 인접 행렬\n",
    "\n",
    "* $|V| = n, |E| = m \\to n\\times n$ matrix\n",
    "1. 메모리 효율성 : $O(n^2)$\n",
    "2. $\\text{Edge} ~ (u, v) \\in E? \\to$ `G[u][v] > 0`이므로 $O(1)$\n",
    "3. u에 인접한 모든 노드 v에 대한 연산\n",
    "> ```{raw}\n",
    "> for v in range(1, n-1) :\n",
    ">   if G[u][v] > 0 do with G[u][v]\n",
    "> ```\n",
    ">\n",
    "> 따라서 $O(n)$이고, 무조건 n회 연산\n",
    "\n",
    "4. 새 Edge (u, v) 삽입 : `G[u][v] = 1`이므로 $O(1)$\n",
    "5. 기존의 Edge (u, v) 삭제 : `G[u][v] = 0`이므로 $O(1)$"
   ]
  },
  {
   "cell_type": "markdown",
   "id": "e453b00a",
   "metadata": {},
   "source": [
    "`-` 인접 리스트\n",
    "\n",
    "* 1차원 배열로 선언된 후, 각 원소에 인접한 노드를 원소로 가지는 연결 리스트를 부착\n",
    "1. 메모리 효율성 : $O(n + m)$\n",
    "2. $\\text{Edge} ~ (u, v) \\in E? \\to$ `G[u].search(v)`이므로 $O(n)$ : 모든 노드가 연결된 상황\n",
    "3. u에 인접한 모든 노드 v에 대한 연산\n",
    "> ```{raw}\n",
    "> for each_edge in G[u] :\n",
    ">   do with each_edge\n",
    "> ```\n",
    ">\n",
    "> $O(n)$이긴 하지만, 인접 노드 수가 작으면 연산 수가 줄어듦 -> 효율적\n",
    "\n",
    "4. 새 Edge (u, v) 삽입 : `G[u].next.prev = v;G[u].next = v;v.prev = G[u]`. 즉, `G[u].pushFront(v)`이므로 $O(1)$\n",
    "5. 기존의 Edge (u, v) 삭제 : v 키를 가지는 연결 리스트의 노드를 찾은 뒤, 제거하고 연결 재정비 -> $O(n)$이고 노드 수가 작으면 연산 수가 줄어듦"
   ]
  },
  {
   "cell_type": "markdown",
   "id": "4147826b",
   "metadata": {},
   "source": [
    "**결론**"
   ]
  },
  {
   "cell_type": "markdown",
   "id": "0ea47e10",
   "metadata": {},
   "source": [
    "> 메모리 효율성 측면에서는 인접 행렬이 훨씬 뒤떨어짐 : 만약 엣지가 매우 많은 경우(거의 모든 노드와 엣지가 존재) 차이 안남\n",
    ">\n",
    "> 시간 측면에서는 인접 행렬이 우수함\n",
    "\n",
    "* 노드 수에 비해서 엣지가 매우 작은 그래프를 Sparse 그래프\n",
    "* 노드 수에 대해 엣지가 아주 많으면 Dense 그래프 -> 인접 행렬 사용이 유리"
   ]
  }
 ],
 "metadata": {
  "language_info": {
   "name": "python"
  }
 },
 "nbformat": 4,
 "nbformat_minor": 5
}
