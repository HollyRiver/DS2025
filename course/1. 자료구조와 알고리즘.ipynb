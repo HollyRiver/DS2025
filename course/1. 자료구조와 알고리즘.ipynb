{
 "cells": [
  {
   "cell_type": "markdown",
   "id": "7aca3606",
   "metadata": {},
   "source": [
    "# 자료구조와 알고리즘"
   ]
  },
  {
   "cell_type": "markdown",
   "id": "dcf7250a",
   "metadata": {},
   "source": [
    "## 1. 자료구조와 알고리즘의 상호 관계"
   ]
  },
  {
   "cell_type": "markdown",
   "id": "12f0260c",
   "metadata": {},
   "source": [
    "* 자료 : Data -> 저장공간 Memory + 연산 읽기/쓰기/삽입/삭제/탐색\n",
    "\n",
    "* 알고리즘 : 자료를 입력으로 하여 유한한 횟수의 연산들을 통해 정답을 출력하는 것\n",
    "\n",
    "> **예**\n",
    ">\n",
    "> 1. 변수 Variable\n",
    ">\n",
    "> * `a = 5` <- 쓰기 연산 : 변수\n",
    "> * `print(a)` <- 읽기 연산 : 변수 이름\n",
    "> * `5`가 저장되어있는 주소(객체의 주소)가 `a`에 저장됨.\n",
    ">\n",
    "> 2. 배열 Array / 리스트 List\n",
    ">\n",
    "> * `A = [3, -1, 5, 7]` <- 접근 : 각 원소의 index\n",
    "> * 읽기/쓰기 : 리스트의 이름과 인덱스만으로 가능\n",
    "> * 삽입 : `A.append(9)`, `A.insert(2, 1)`\n",
    "> * 삭제 : `A.pop()`, `del A[i]`"
   ]
  },
  {
   "cell_type": "markdown",
   "id": "347dec97",
   "metadata": {},
   "source": [
    "## 2. 알고리즘"
   ]
  },
  {
   "cell_type": "markdown",
   "id": "b5bdb431",
   "metadata": {},
   "source": [
    "* 인류 최초의 알고리즘 : 최대공약수 GCD 계산 알고리즘 By Euclid\n",
    "* AC 페르시아 algebra 수학자 AL-Khwarizm : Algorismus + Arithmos라는 게 정설\n",
    "\n",
    "\n",
    "* $\\text{gcd}(8, 12) = \\max\\{1, 2, 4\\} = 4$"
   ]
  },
  {
   "cell_type": "markdown",
   "id": "bad7d096",
   "metadata": {},
   "source": [
    "`-` 단순 뺄셈(초기 아이디어)"
   ]
  },
  {
   "cell_type": "code",
   "execution_count": 5,
   "id": "015be5e5",
   "metadata": {},
   "outputs": [],
   "source": [
    "def gcd(a, b) :\n",
    "   while a != 0 and b != 0 :\n",
    "       if a > b :\n",
    "           a -= b\n",
    "       else :\n",
    "           b -= a\n",
    "        \n",
    "   return a+b"
   ]
  },
  {
   "cell_type": "markdown",
   "id": "299f1329",
   "metadata": {},
   "source": [
    "> `gcd(2, 100)` -> `gcd(2, 0)` : 50번 while문 반복"
   ]
  },
  {
   "cell_type": "markdown",
   "id": "55ef66a1",
   "metadata": {},
   "source": [
    "`-` moduler 사용"
   ]
  },
  {
   "cell_type": "code",
   "execution_count": 9,
   "id": "8f12a83d",
   "metadata": {},
   "outputs": [],
   "source": [
    "def gcd_advanced(a, b) :\n",
    "    while a != 0 and b != 0 :\n",
    "        if a > b :\n",
    "            a = a%b\n",
    "        else :\n",
    "            b = b%a\n",
    "            \n",
    "    return a+b"
   ]
  },
  {
   "cell_type": "markdown",
   "id": "1252755f",
   "metadata": {},
   "source": [
    "> 나머지를 계산하는 알고리즘이 훨씬 더 효율적임"
   ]
  },
  {
   "cell_type": "markdown",
   "id": "ae02d2b6",
   "metadata": {},
   "source": [
    "`-` 재귀로 구현"
   ]
  },
  {
   "cell_type": "code",
   "execution_count": 15,
   "id": "bf187ee1",
   "metadata": {},
   "outputs": [],
   "source": [
    "def gcd_recursive(a, b) :\n",
    "    if a == 0 or b == 0 :\n",
    "        return a+b\n",
    "    \n",
    "    else :\n",
    "        if a > b :\n",
    "            return gcd_recursive(a%b, b)\n",
    "        else :\n",
    "            return gcd_recursive(a, b%a)"
   ]
  },
  {
   "cell_type": "markdown",
   "id": "c263f330",
   "metadata": {},
   "source": [
    "## 3. 자료구조와 알고리즘 성능 (알고리즘 시간복잡도)"
   ]
  },
  {
   "cell_type": "markdown",
   "id": "a52c4128",
   "metadata": {},
   "source": [
    "* 가상컴퓨터 + 가상언어 + 가상코드\n",
    "* 하드웨어와 소프트웨어 환경에 따라 코드가 돌아가는 속도가 다름"
   ]
  },
  {
   "cell_type": "markdown",
   "id": "68f59bd0",
   "metadata": {},
   "source": [
    "* 가상 컴퓨터 Virtual Machine + 가상 언어 Pseudo Language + 가상 코드 Psuedo Code\n",
    "> 누구나 같은 환경에서 같은 알고리즘을 객관적으로 평가할 수 있음"
   ]
  },
  {
   "cell_type": "markdown",
   "id": "f142fa7e",
   "metadata": {},
   "source": [
    "`-` 가상 컴퓨터\n",
    "\n",
    "* Turing Machine -> von Neumann : RAM(Random Access Machine) = CPU + Memory + 기본연산(단위 시간에 수행되는 연산들의 모음)\n",
    "* 기본연산 : 기초적인 모든 연산 포함\n",
    "> * 배정, 대입, 복사연산 : `a = b`\n",
    "> * 산술연산 : +,-,*,/ (%, 버림, 올림 등은 기본연산으로 정의하지 않으나, 단위시간 내에 연산 된다고 가정)\n",
    "> * 비교연산 : >,>=,<,<=,==,!= (두 수를 비교한다는 것은 뺄셈 연산이 포함됨)\n",
    "> * 논리연산 : AND, OR, NOT\n",
    "> * 비트연산 : bit-AND, OR, NOT"
   ]
  },
  {
   "cell_type": "markdown",
   "id": "585a7239",
   "metadata": {},
   "source": [
    "`-` 가상 언어 Pseudo/Virtual Languages\n",
    "\n",
    "* RAM 상에서 기본연산을 표현할 수 있는 코드\n",
    "* 배정, 산술, 비교, 논리, bit-논리의 기본연산을 표현\n",
    "* 비교 : if, if else, if elseif ... else\n",
    "* 반복 : for, while\n",
    "* 함수 : 정의, 호출, return\n",
    "\n",
    "> 딱 정해진 것은 아니고, 위 방법들을 표현하도록 지원하기만 하면 Pseudo Code라고 함. 내용만 제대로 전달하면 됨.\n",
    "\n",
    "\n",
    "```{Raw}\n",
    "algorithm ArrayMax(A, n) :\n",
    "    input : n개의 정수를 갖는 Array A\n",
    "    output : A 안의 정수 중에서 최대값을 리턴\n",
    "\n",
    "    currentMax = A[0]\n",
    "    \n",
    "    for i = 1 to n-1 do\n",
    "        if currentMax < A[i] :\n",
    "            currentMax = A[i]\n",
    "    \n",
    "    return currentMax\n",
    "```\n",
    "\n",
    "> 이해만 되면 상관 없음 ㅇㅇ\n",
    ">\n",
    "> for 문 안에서도 i를 더해주고, 이게 n-1보다 큰지 확인해야 하므로 내부적 연산이 진행되나 고려하지 않음(근데 이건 iterable하게 뿌리는 거라 i에 할당만 하지 않나?)\n",
    ">\n",
    "> 만약 `A = [3, -1, 9, 2, 12], n = 5`라면, `currentMax` 할당에서 1 + n-1회 비교연산에서 n-1 + 9와 12에서 갱신해주므로 2 = 7회\n",
    ">\n",
    "> 입력은 무수히 많을 수 있고, n도 무수히 많을 수 있는데, 이 경우 어떻게 알고리즘의 수행 시간을 정의할 것인가라는 문제 발생"
   ]
  },
  {
   "cell_type": "markdown",
   "id": "1f0e5b21",
   "metadata": {},
   "source": [
    "`-` Time Complexity"
   ]
  },
  {
   "cell_type": "markdown",
   "id": "f0816300",
   "metadata": {},
   "source": [
    "* 모든 입력에 대해 기본연산 횟수를 더한 후 평균을 내자 -> 현실적으로 불가능\n",
    "> 고려해야 할 입력이 무한히 많음. 무한히 입력하지 않아도 수학적으로 평균을 낼 순 있으나, 모든 알고리즘을 그렇게 비효율적으로 할 수는 없음\n",
    "\n",
    "* 가장 안좋은 입력(Worstcase input)에 대한 기본연산 횟수를 측정 : Worstcase time complexity\n",
    "> 어떤 입력에 대해서도 Worstcase time complexity보다 수행시간이 크지 않다는 사실이 보장\n",
    "\n",
    "\n",
    "일반적으로 **알고리즘 수행시간은 최악의 입력에 대한 기본연산 횟수로 정의한다**\n",
    "\n",
    "\n",
    "* ArrayMax의 Worstcase time complexity\n",
    "\n",
    "> 1. 초기 대입 연산 무조건 실행\n",
    "> 2. for문 비교 연산 무조건 실행\n",
    "> 3. if문이 참일 경우 대입 연산 실행\n",
    ">\n",
    "> 즉, 최대 `2n-1`만큼의 수행시간이 필요. $T(n) = 2n - 1$"
   ]
  },
  {
   "cell_type": "markdown",
   "id": "d59a8313",
   "metadata": {},
   "source": [
    "`-` 예시\n",
    "\n",
    "(evensum)\n",
    "\n",
    "```{raw}\n",
    "algorithm sum1(A, n) :\n",
    "    sum = 0\n",
    "    for i = 0 to n-1 do\n",
    "        if A[i]%2 == 0 :\n",
    "            sum += A[i]\n",
    "        \n",
    "    return sum\n",
    "```\n",
    "\n",
    "> 1. sum에 초기값 할당\n",
    "> 2. for문에서 나머지 및 비교연산 수행 : 2\n",
    "> 3. if문이 참일 시 덧셈 및 할당 : 2\n",
    ">\n",
    "> worstcase input complexity `4n + 1`회의 수행이 필요 : $T(n) = 4n+1$\n",
    "\n",
    "(oddsum)\n",
    "\n",
    "```{raw}\n",
    "algorithm sum2(A, n) :\n",
    "    sum = 0\n",
    "    for i = 0 to n-1 do\n",
    "        for j = i to n-1 do\n",
    "            sum += A[i]*A[j]\n",
    "\n",
    "    return sum\n",
    "```\n",
    "\n",
    "> 1. sum에 초기값 할당\n",
    "> 2. i문 n회\n",
    "> 3. j loop $\\sum_{i=0}^{n-1}(n-i)$\n",
    "> 4. sum에서 곱하기, 더하기, 할당 3회\n",
    ">\n",
    "> $T(n) = 1 + \\frac{n(n+1)}{2} \\times 3 = \\frac32 n^2 + \\frac32 n + 1$"
   ]
  },
  {
   "cell_type": "markdown",
   "id": "4cdcfaa7",
   "metadata": {},
   "source": [
    "## 4. Big-O 표기법"
   ]
  },
  {
   "cell_type": "markdown",
   "id": "8cca458d",
   "metadata": {},
   "source": [
    "`-` Worstcase input에 대한 기본연산 횟수\n",
    "\n",
    "* `Algorithm1` : $T_1(n) = 2n-1$\n",
    "* `Algorithm2` : $T_2(n) = 4n+1$\n",
    "* `Algorithm3` : $T_3(n) = \\frac32 n^2 - \\frac32 n + 1$\n",
    "\n",
    "> 1. `Algorithm2`가 `Algorithm1`보다 2배 느리다\n",
    "> 2. `Algorithm3`는 $n < \\frac53$이면 `Algorithm2`보다 빠르다. & 모든 $n$에 대해서 `Algorithm1`보다 느리다.\n",
    "> 3. `Algorithm3`는 $n > \\frac53$이면 항상 `Algorithm2`보다 느리다.\n",
    "\n",
    "\n",
    "* $T_1(n),~ T_2(n)$은 $n$에 대해 선형적으로 증가 -> 최고차항이 $n$\n",
    "* $T_3(n)$은 $n$에 대해 제곱으로 증가 -> 최고차항이 $n^2$\n",
    "\n",
    "> 최고차항은 함수의 증가율을 의미\n",
    ">\n",
    "> $T_1(n), T_2(n)$은 수행시간이 같다고 생각할 수 있음 : 같은 증가율을 가진다고 볼 수 있음\n",
    ">\n",
    "> 모든 항들을 전부 분석하지 말고, 증가율을 결정하는 최고차항만 가지고 수행시간을 표기 --> Big-O 표기법"
   ]
  },
  {
   "cell_type": "markdown",
   "id": "d99ed633",
   "metadata": {},
   "source": [
    "`-` **Big-O**\n",
    "\n",
    "* $T_1(n) = 2n - 1 \\to T_1(n) = O(n)$\n",
    "* $T_2(n) = 4n + 1 \\to T_2(n) = O(n)$\n",
    "* $T_3(n) = \\frac32 n^2 - \\frac32 n + 1 \\to T_3(n) = O(n^2)$\n",
    "\n",
    "1. 최고차항만 남긴다.\n",
    "2. 최고차항 계수(상수)는 생략한다.\n",
    "3. Big-O(최고차항)으로 표기한다."
   ]
  },
  {
   "cell_type": "markdown",
   "id": "fbc0f3cc",
   "metadata": {},
   "source": [
    "`-` 집합을 이해하기\n",
    "\n",
    "* $T_1(n) = O(n), ~ T_2(n) = O(n) \\to$ $O(n)$은 시간복잡도가 $O(n)$인 개체들의 집합 -> $T_1(n) \\in O(n)  \\to O(n) ⊂ O(n^2)$\n",
    "* $T_3(n) = O(n^2)$\n",
    "\n",
    "(예 1)\n",
    "\n",
    "```{raw}\n",
    "def increament_one(a) :\n",
    "    return a+1\n",
    "```\n",
    "\n",
    "> $T(n) = 1 \\to T(n) = O(1) = O(n^0)$ 상수시간\n",
    "\n",
    "\n",
    "(예 2)\n",
    "\n",
    "```{raw}\n",
    "def number_of_bits(n) :\n",
    "    count = 0\n",
    "\n",
    "    while n > 0 :\n",
    "        n = n//2\n",
    "        count += 1\n",
    "    \n",
    "    return count\n",
    "```\n",
    "\n",
    "> $T(n) = 1 + 4\\log_2(n), ~ T(n) = O(\\log(n))$"
   ]
  },
  {
   "cell_type": "markdown",
   "id": "57ca83ce",
   "metadata": {},
   "source": []
  }
 ],
 "metadata": {
  "kernelspec": {
   "display_name": "trch",
   "language": "python",
   "name": "python3"
  },
  "language_info": {
   "codemirror_mode": {
    "name": "ipython",
    "version": 3
   },
   "file_extension": ".py",
   "mimetype": "text/x-python",
   "name": "python",
   "nbconvert_exporter": "python",
   "pygments_lexer": "ipython3",
   "version": "3.12.2"
  }
 },
 "nbformat": 4,
 "nbformat_minor": 5
}
