{
 "cells": [
  {
   "cell_type": "markdown",
   "id": "fd34f1ea",
   "metadata": {},
   "source": [
    "# 트리구조"
   ]
  },
  {
   "cell_type": "markdown",
   "id": "4ebf6640",
   "metadata": {},
   "source": [
    "## 1. 트리"
   ]
  },
  {
   "cell_type": "markdown",
   "id": "af6e92c7",
   "metadata": {},
   "source": [
    "부모와 자식 구조로 이어진 자료구조"
   ]
  },
  {
   "cell_type": "markdown",
   "id": "c0d8d063",
   "metadata": {},
   "source": [
    "* 자식을 최대 하나까지만 허용한 경우 -> 한 방향 연결 리스트\n",
    "* 자식을 두 개까지만 허용한 경우 -> 이진 트리 Binary Tree\n",
    "\n",
    "`-` **용어 정리**\n",
    "\n",
    "* 맨 위에 있는 노드 : root node\n",
    "* 중간 노드 : node\n",
    "* 노드 간 링크 : link, edge\n",
    "* 자식이 없는 노드 : leaf node\n",
    "* 루트 노드로부터의 거리 : level, depth\n",
    "* 노드에서 노드 간 경로 : path (출발 노드 3 -> 2 -> 7 -> 8 -> 도착 노드 12) 경유 노드를 거침 -> 경로 길이 path length == 4 (링크의 개수)\n",
    "* 특정 노드 기준으로 위와 아래에 있는 노드 : 부모노드 / 자식노드\n",
    "* 레벨이 같은 노드들 : 형제 노드"
   ]
  },
  {
   "cell_type": "markdown",
   "id": "712192c9",
   "metadata": {},
   "source": [
    "### 트리의 표현 방식"
   ]
  },
  {
   "cell_type": "markdown",
   "id": "ce9c2d8a",
   "metadata": {},
   "source": [
    "`-` 1. 리스트 사용 : `level 0 -> level 1 -> level 2 -> ...`\n",
    "\n",
    "```Python\n",
    "A = [a, b, c, None, d, e, f] ## level 2의 왼쪽 첫 번째 노드가 빔\n",
    "\n",
    "B = [a, b, c, None, d, e, f, None, None, g, h, i] ## 노드가 많이 빔\n",
    "```\n",
    "\n",
    "> 각 레벨마다 꽉 차있다고 생각하고 순서대로 채움"
   ]
  },
  {
   "cell_type": "markdown",
   "id": "806a8bcb",
   "metadata": {},
   "source": [
    "`-` 2. 재귀적으로 리스트 사용\n",
    "\n",
    "```Python\n",
    "A = [a, [b, [], [d, [], []]], [c, [e, [], []], [f, [], []]]] ## [x, [], []]는 리프 노드\n",
    "```"
   ]
  },
  {
   "cell_type": "markdown",
   "id": "770ab48d",
   "metadata": {},
   "source": [
    "`-` 3. 노드 자체를 클래스로 정의\n",
    "\n",
    "```Python\n",
    "class Node :\n",
    "    def __init__(self, key) :\n",
    "        self.key = key\n",
    "        self.parent = None\n",
    "        self.left = None\n",
    "        self.right = None\n",
    "```"
   ]
  },
  {
   "cell_type": "markdown",
   "id": "5982c485",
   "metadata": {},
   "source": [
    "## 2. 힙 Heap"
   ]
  },
  {
   "cell_type": "markdown",
   "id": "9bf85641",
   "metadata": {},
   "source": [
    "heap property를 만족하는 이진 트리"
   ]
  },
  {
   "cell_type": "markdown",
   "id": "b9cf59df",
   "metadata": {},
   "source": [
    "`-` 표현법 1 : `H = [a, b, c, None, d, e, f]`\n",
    "\n",
    "> * `H[0]`의 왼쪽 자식 노드 : `H[1]`/`H[0]`의 오른쪽 자식 노드 : `H[2]`\n",
    ">\n",
    "> * `H[2]`의 왼쪽 자식 노드 : `H[2*2 + 1] == H[5]` / 오른쪽 자식 노드 : `H[2*2 + 2] == H[6]`\n",
    ">\n",
    "> * `H[k]`의 왼쪽 : `H[k*2 + 1]` / 오른쪽 : `H[k*2 + 2]`\n",
    ">\n",
    "> * `H[k]`의 부모 노드 : `H[(k-1)//2]`\n",
    ">\n",
    "> 즉, 상수 시간의 연산으로 자식과 부모 노드를 알 수 있음\n",
    "\n",
    "\n",
    "> **단점**\n",
    ">\n",
    "> * 레벨이 높을수록 `None`값을 많이 할당해야 됨 -> 메모리의 낭비\n",
    "> * 마지막 레벨을 제외하고 꽉꽉 채워넣으면 메모리 낭비를 줄일 수 있을 텐데... -> Heap"
   ]
  },
  {
   "cell_type": "markdown",
   "id": "2044d7b5",
   "metadata": {},
   "source": [
    "`-` Heap Property\n",
    "\n",
    "* 모든 부모노드의 key 값은 자식 노드의 key 값보다 작지 않다.\n",
    "* 모양 성질 : 마지막 레벨이 아니면 꽉 채워져 있고, 마지막 레벨은 왼쪽부터 채워진다.\n",
    "\n",
    "```Python\n",
    "A = [2, 8, 6, 1, 10, 15, 3, 12, 11] ## -> 부모 노드의 값이 자식 노드보다 작음. 루트 노드부터 그럼\n",
    "\n",
    "A = [15, 12, 6, 11, 10, 2, 3, 1, 5] ## 모든 노드가 만족, Heap임\n",
    "```\n",
    "\n",
    "> **힙의 특징**\n",
    ">\n",
    "> * 루트 노드에는 가장 큰 값이 들어있음 : `A[0]`"
   ]
  },
  {
   "cell_type": "markdown",
   "id": "c3d7543e",
   "metadata": {},
   "source": [
    "### 힙 제공 연산"
   ]
  },
  {
   "cell_type": "markdown",
   "id": "040ccd17",
   "metadata": {},
   "source": [
    "`-` `make_heap`\n",
    "\n",
    "* `heapify_down` 연산을 반복해야 함\n",
    "\n",
    "> 리프 노드를 제외하고 우측 최하위 노드 기준으로 부분 힙을 구성하는 과정을 반복\n",
    "\n",
    "```{raw}\n",
    "algorithm heapify_down(k, n) :\n",
    "    ## root node를 leaf node까지 내리는 데에 logN 필요\n",
    "    while A[k] != leaf node :\n",
    "        L, R = (2*k + 1, 2*k + 2)\n",
    "        m = max_index(A[k], A[L], A[R])\n",
    "\n",
    "        if k != m :\n",
    "            ## 순서 바꿔줌\n",
    "            Ak = A[k]\n",
    "            A[k] = A[m]\n",
    "            A[m] = Ak\n",
    "\n",
    "            k = m\n",
    "        else :\n",
    "            break ## 내려갈 필요가 없음 -> 이미 힙임\n",
    "\n",
    "algorithm make_heap(A) :\n",
    "    ## O(N) * O(logN) -> O(N logN)인데, 사실 O(N)임\n",
    "    n = len(A)\n",
    "\n",
    "    for k in range(n-1, -1, -1) :\n",
    "        heapify_down(k, n) ## A[k], heap 원소 갯수\n",
    "```"
   ]
  },
  {
   "cell_type": "markdown",
   "id": "bc8b7ece",
   "metadata": {},
   "source": [
    "$$\\begin{align}S & = \\sum_{i=0}^{h}2^i(h-i) \\\\\n",
    "& = h\\times 2^0 + (h-1)\\times 2^1 + \\cdots + 2\\times 2^{h-2} + 1\\times 2^{h-1} \\\\\n",
    "& = 2^{h-1} + 2\\times 2^{h-2} + \\cdots + (h-1) \\times 2 + h \\\\ \\\\\n",
    "\n",
    "\\frac12 S & = ~~~~~~~~~~~~~~~~~~~ 2^{h-2} + \\cdots + (h-2) \\times 2 + (h-1) + \\frac{h}{2} \\\\ \\\\\n",
    "\\Rightarrow S - \\frac12 S & = 2^{h-1} + 2^{h-2} + \\cdots + 2 + 1 + \\frac{h}{2} \\\\\n",
    "& = \\sum_{i=0}^{h-1} 2^i - \\frac{h}{2} = \\frac{2^{h-1} - 1}{2-1} - \\frac12 \\log_2{n} \\\\\n",
    "& = 2^{\\log_2{n} - 1} - \\frac12 \\log_2{n} \\\\\n",
    "& = \\frac12 n - \\frac12 \\log_2{n} \\\\\n",
    "\n",
    "\\Rightarrow & \\text{w.c time complexity} = O(n)\n",
    "\\end{align}$$"
   ]
  },
  {
   "cell_type": "markdown",
   "id": "49aff88e",
   "metadata": {},
   "source": [
    "`-` `insert`"
   ]
  },
  {
   "cell_type": "markdown",
   "id": "261bc069",
   "metadata": {},
   "source": [
    "```Python\n",
    "A = [15, 12, 6, 11, 10, 2, 3, 1, 8] ## Heap임\n",
    "\n",
    "A.insert(14) ## Heap의 모양 성질을 만족하면서 들어오게 되면(맨 마지막 오른쪽 끝에 들어옴) 힙이 깨짐 -> make_heap을 해주면 됨\n",
    "```"
   ]
  },
  {
   "cell_type": "markdown",
   "id": "7f552428",
   "metadata": {},
   "source": [
    "```{raw}\n",
    "algorithm insert(key) :\n",
    "    A.append(key)\n",
    "    idx = len(A)\n",
    "    A.heapify_up(idx) ## A[k]를 root 방향으로 이동하면서 heapify : O(logN)\n",
    "\n",
    "algorithm heapify_up(k) :\n",
    "    ## leaf node를 맨 위로 올리는 경우가 있으므로 O(logN)\n",
    "    while k > 0 and A[(k-1)//2] < A[k] :\n",
    "        Ak = A[k]\n",
    "        A[k] = A[(k-1)//2]\n",
    "        A[(k-1)//2] = Ak\n",
    "\n",
    "        k = (k-1)//2\n",
    "```\n",
    "\n",
    "> `A`를 힙으로 만들려면 `insert`를 n번 반복해도 됨(O(NlogN). 물론 make_heap이 더 빠름)"
   ]
  },
  {
   "cell_type": "markdown",
   "id": "ee551ded",
   "metadata": {},
   "source": [
    "`-` `find_max`\n",
    "\n",
    "* 전체 값 중 가장 큰 값이 힙의 루트 노드에 저장되어 있으므로 1회 연산하며, $O(1)$\n",
    "\n",
    "```{raw}\n",
    "algorithm find_max(A) :\n",
    "    return A[0]\n",
    "```"
   ]
  },
  {
   "cell_type": "markdown",
   "id": "de60da0e",
   "metadata": {},
   "source": [
    "`-` `delete_max`\n",
    "\n",
    "* 만약 root node가 없어지면, 아래에 있는 애들을 다 갈아엎어야 함. 일단 최소 $O(n)$\n",
    "* 가장 마지막에 들어있는 leaf node 값을 root node로 옮기고, `heapify_down`을 해줘야 함 -> $O(logN)$\n",
    "\n",
    "```{raw}\n",
    "algorithm heapify_down() :\n",
    "    ## 똑같이 O(logN)\n",
    "    while k <= (len(A)-1) :\n",
    "        if A[2*k + 1] > A[2*k + 2] :\n",
    "            if A[k] < A[2*k + 1] :\n",
    "                Ak = A[k]\n",
    "                A[k] = A[2*k + 1]\n",
    "                A[2*k + 1] = Ak\n",
    "            else :\n",
    "                break\n",
    "        else :\n",
    "            if A[k] < A[2*k + 2] :\n",
    "                Ak = A[k]\n",
    "                A[k] = A[2*k + 2]\n",
    "                A[2*k + 2] = Ak\n",
    "            else :\n",
    "                break\n",
    "\n",
    "\n",
    "algorithm delete_max() :\n",
    "    if len(A) == 0 :\n",
    "        return None\n",
    "\n",
    "    A[0] = A[len(A)-1]\n",
    "    del A[len(A)-1] ## A.pop()\n",
    "\n",
    "    A.heapify_down(0, n) ## O(logN)\n",
    "```"
   ]
  },
  {
   "cell_type": "markdown",
   "id": "23d66371",
   "metadata": {},
   "source": [
    "> 단, 힙에서는 `search` 함수를 지원하지 않음 -> 어떤 노드로 갈지 모름 : 그냥 전역 탐색하는 게 제일 빠름 $O(n)$\n",
    ">\n",
    "> 지금까지는 Max-Heap이고, 반대로 하면 Min-Heap도 만들 수 있음\n",
    "\n",
    "\n",
    "`-` 힙을 이용해 정렬도 가능 : Heap Sort\n",
    "\n",
    "```Python\n",
    "A.make_heap() ## O(nlogn)\n",
    "sorted_A = [0]*n\n",
    "\n",
    "for k in range(n) :\n",
    "    sorted_A[k] = A.delete_max()\n",
    "```"
   ]
  },
  {
   "cell_type": "markdown",
   "id": "6cb12569",
   "metadata": {},
   "source": [
    "`-` 구현"
   ]
  },
  {
   "cell_type": "code",
   "execution_count": null,
   "id": "c71d8c41",
   "metadata": {},
   "outputs": [],
   "source": [
    "class Heap :\n",
    "    def __init__(self, A) :\n",
    "        self.A = A\n",
    "        self.depth = len(A)\n",
    "    \n",
    "    def __len__(self) :\n",
    "        return len(self.A)\n",
    "    \n",
    "    def __repr__(self) :\n",
    "        return self.A.__repr__()\n",
    "    \n",
    "    def heapify_down(self, k) :\n",
    "        while 2*k+1 <= len(self.A)-1 :\n",
    "            L, R = (2*k + 1, 2*k + 2)\n",
    "            \n",
    "            if 2*k+2 > len(self.A)-1 :\n",
    "                R = L\n",
    "\n",
    "            m = [k, L, R][[self.A[k], self.A[L], self.A[R]].index(max([self.A[k], self.A[L], self.A[R]]))]\n",
    "            \n",
    "            if k != m :\n",
    "                Ak = self.A[k]\n",
    "                self.A[k] = self.A[m]\n",
    "                self.A[m] = Ak\n",
    "                \n",
    "                k = m\n",
    "                \n",
    "            else :\n",
    "                break\n",
    "            \n",
    "    def heapify_up(self, k)     :\n",
    "        while k > 0 and self.A[k] > self.A[(k-1)//2] :\n",
    "            Ak = self.A[k]\n",
    "            self.A[k] = self.A[(k-1)//2]\n",
    "            self.A[(k-1)//2] = Ak\n",
    "            \n",
    "            k = (k-1)//2\n",
    "        \n",
    "    def make_heap(self) :\n",
    "        n = len(self.A)\n",
    "        \n",
    "        for k in range(n-1, -1, -1) :\n",
    "            self.heapify_down(k)\n",
    "            \n",
    "    def insert(self, key) :\n",
    "        self.A.append(key)\n",
    "        self.heapify_up(len(self.A) - 1)\n",
    "        \n",
    "    def find_max(self) :\n",
    "        return self.A[0]\n",
    "    \n",
    "    def delete_max(self) :\n",
    "        ## 임의의 노드 삭제 시 리스트와 시간복잡도가 동일하므로 사용할 이유가 없음\n",
    "        self.A[0] = self.A[-1]\n",
    "        del self.A[-1]\n",
    "        \n",
    "        self.heapify_down(0) ## O(logN)"
   ]
  },
  {
   "cell_type": "code",
   "execution_count": null,
   "id": "c595dae8",
   "metadata": {},
   "outputs": [
    {
     "name": "stdout",
     "output_type": "stream",
     "text": [
      "[81, 56, 13, 10, 8, 5, 11, 9, 7, 3]\n",
      "[101, 81, 13, 10, 56, 5, 11, 9, 7, 3, 8]\n",
      "[81, 56, 13, 10, 8, 5, 11, 9, 7, 3]\n"
     ]
    }
   ],
   "source": [
    "A = [5, 8, 11, 7, 56, 13, 81, 9, 10, 3]\n",
    "Hp = Heap(A)\n",
    "\n",
    "Hp.make_heap() ## O(n)\n",
    "print(Hp)\n",
    "Hp.insert(101) ## O(log n)\n",
    "print(Hp)\n",
    "Hp.delete_max() ## O(1)\n",
    "print(Hp)"
   ]
  },
  {
   "cell_type": "code",
   "execution_count": null,
   "id": "0b09c7ae",
   "metadata": {},
   "outputs": [
    {
     "data": {
      "text/plain": [
       "[81, 56, 13, 11, 10, 9, 8, 7, 5, 3]"
      ]
     },
     "execution_count": 47,
     "metadata": {},
     "output_type": "execute_result"
    }
   ],
   "source": [
    "A = [5, 8, 11, 7, 56, 13, 81, 9, 10, 3]\n",
    "Hp = Heap(A)\n",
    "\n",
    "Hp.make_heap() ## O(n)\n",
    "sorted_A = [0]*len(Hp)\n",
    "\n",
    "for k in range(len(Hp)) :\n",
    "    sorted_A[k] = Hp.find_max()\n",
    "    Hp.delete_max() ## O(log n)\n",
    "    \n",
    "sorted_A ## O(nlog n)"
   ]
  }
 ],
 "metadata": {
  "kernelspec": {
   "display_name": "base",
   "language": "python",
   "name": "python3"
  },
  "language_info": {
   "codemirror_mode": {
    "name": "ipython",
    "version": 3
   },
   "file_extension": ".py",
   "mimetype": "text/x-python",
   "name": "python",
   "nbconvert_exporter": "python",
   "pygments_lexer": "ipython3",
   "version": "3.12.7"
  }
 },
 "nbformat": 4,
 "nbformat_minor": 5
}
