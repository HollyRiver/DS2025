{
 "cells": [
  {
   "cell_type": "markdown",
   "id": "fd34f1ea",
   "metadata": {},
   "source": [
    "# 트리구조"
   ]
  },
  {
   "cell_type": "markdown",
   "id": "4ebf6640",
   "metadata": {},
   "source": [
    "## 1. 트리"
   ]
  },
  {
   "cell_type": "markdown",
   "id": "af6e92c7",
   "metadata": {},
   "source": [
    "부모와 자식 구조로 이어진 자료구조"
   ]
  },
  {
   "cell_type": "markdown",
   "id": "c0d8d063",
   "metadata": {},
   "source": [
    "* 자식을 최대 하나까지만 허용한 경우 -> 한 방향 연결 리스트\n",
    "* 자식을 두 개까지만 허용한 경우 -> 이진 트리 Binary Tree\n",
    "\n",
    "`-` **용어 정리**\n",
    "\n",
    "* 맨 위에 있는 노드 : root node\n",
    "* 중간 노드 : node\n",
    "* 노드 간 링크 : link, edge\n",
    "* 자식이 없는 노드 : leaf node\n",
    "* 루트 노드로부터의 거리 : level, depth\n",
    "* 노드에서 노드 간 경로 : path (출발 노드 3 -> 2 -> 7 -> 8 -> 도착 노드 12) 경유 노드를 거침 -> 경로 길이 path length == 4 (링크의 개수)\n",
    "* 특정 노드 기준으로 위와 아래에 있는 노드 : 부모노드 / 자식노드\n",
    "* 레벨이 같은 노드들 : 형제 노드"
   ]
  },
  {
   "cell_type": "markdown",
   "id": "712192c9",
   "metadata": {},
   "source": [
    "### 트리의 표현 방식"
   ]
  },
  {
   "cell_type": "markdown",
   "id": "ce9c2d8a",
   "metadata": {},
   "source": [
    "`-` 1. 리스트 사용 : `level 0 -> level 1 -> level 2 -> ...`\n",
    "\n",
    "```Python\n",
    "A = [a, b, c, None, d, e, f] ## level 2의 왼쪽 첫 번째 노드가 빔\n",
    "\n",
    "B = [a, b, c, None, d, e, f, None, None, g, h, i] ## 노드가 많이 빔\n",
    "```\n",
    "\n",
    "> 각 레벨마다 꽉 차있다고 생각하고 순서대로 채움"
   ]
  },
  {
   "cell_type": "markdown",
   "id": "806a8bcb",
   "metadata": {},
   "source": [
    "`-` 2. 재귀적으로 리스트 사용\n",
    "\n",
    "```Python\n",
    "A = [a, [b, [], [d, [], []]], [c, [e, [], []], [f, [], []]]] ## [x, [], []]는 리프 노드\n",
    "```"
   ]
  },
  {
   "cell_type": "markdown",
   "id": "770ab48d",
   "metadata": {},
   "source": [
    "`-` 3. 노드 자체를 클래스로 정의\n",
    "\n",
    "```Python\n",
    "class Node :\n",
    "    def __init__(self, key) :\n",
    "        self.key = key\n",
    "        self.parent = None\n",
    "        self.left = None\n",
    "        self.right = None\n",
    "```"
   ]
  },
  {
   "cell_type": "markdown",
   "id": "5982c485",
   "metadata": {},
   "source": [
    "## 2. 힙 Heap"
   ]
  },
  {
   "cell_type": "markdown",
   "id": "9bf85641",
   "metadata": {},
   "source": [
    "heap property를 만족하는 이진 트리"
   ]
  },
  {
   "cell_type": "markdown",
   "id": "b9cf59df",
   "metadata": {},
   "source": [
    "`-` 표현법 1 : `H = [a, b, c, None, d, e, f]`\n",
    "\n",
    "> * `H[0]`의 왼쪽 자식 노드 : `H[1]`/`H[0]`의 오른쪽 자식 노드 : `H[2]`\n",
    ">\n",
    "> * `H[2]`의 왼쪽 자식 노드 : `H[2*2 + 1] == H[5]` / 오른쪽 자식 노드 : `H[2*2 + 2] == H[6]`\n",
    ">\n",
    "> * `H[k]`의 왼쪽 : `H[k*2 + 1]` / 오른쪽 : `H[k*2 + 2]`\n",
    ">\n",
    "> * `H[k]`의 부모 노드 : `H[(k-1)//2]`\n",
    ">\n",
    "> 즉, 상수 시간의 연산으로 자식과 부모 노드를 알 수 있음\n",
    "\n",
    "\n",
    "> **단점**\n",
    ">\n",
    "> * 레벨이 높을수록 `None`값을 많이 할당해야 됨 -> 메모리의 낭비\n",
    "> * 마지막 레벨을 제외하고 꽉꽉 채워넣으면 메모리 낭비를 줄일 수 있을 텐데... -> Heap"
   ]
  },
  {
   "cell_type": "markdown",
   "id": "2044d7b5",
   "metadata": {},
   "source": [
    "`-` Heap Property\n",
    "\n",
    "* 모든 부모노드의 key 값은 자식 노드의 key 값보다 작지 않다.\n",
    "* 모양 성질 : 마지막 레벨이 아니면 꽉 채워져 있고, 마지막 레벨은 왼쪽부터 채워진다.\n",
    "\n",
    "```Python\n",
    "A = [2, 8, 6, 1, 10, 15, 3, 12, 11] ## -> 부모 노드의 값이 자식 노드보다 작음. 루트 노드부터 그럼\n",
    "\n",
    "A = [15, 12, 6, 11, 10, 2, 3, 1, 5] ## 모든 노드가 만족, Heap임\n",
    "```\n",
    "\n",
    "> **힙의 특징**\n",
    ">\n",
    "> * 루트 노드에는 가장 큰 값이 들어있음 : `A[0]`"
   ]
  },
  {
   "cell_type": "markdown",
   "id": "c3d7543e",
   "metadata": {},
   "source": [
    "### 힙 제공 연산"
   ]
  },
  {
   "cell_type": "markdown",
   "id": "040ccd17",
   "metadata": {},
   "source": [
    "`-` `make_heap`\n",
    "\n",
    "* `heapify_down` 연산을 반복해야 함\n",
    "\n",
    "> 리프 노드를 제외하고 우측 최하위 노드 기준으로 부분 힙을 구성하는 과정을 반복\n",
    "\n",
    "```{raw}\n",
    "algorithm heapify_down(k, n) :\n",
    "    ## root node를 leaf node까지 내리는 데에 logN 필요\n",
    "    while A[k] != leaf node :\n",
    "        L, R = (2*k + 1, 2*k + 2)\n",
    "        m = max_index(A[k], A[L], A[R])\n",
    "\n",
    "        if k != m :\n",
    "            ## 순서 바꿔줌\n",
    "            Ak = A[k]\n",
    "            A[k] = A[m]\n",
    "            A[m] = Ak\n",
    "\n",
    "            k = m\n",
    "        else :\n",
    "            break ## 내려갈 필요가 없음 -> 이미 힙임\n",
    "\n",
    "algorithm make_heap(A) :\n",
    "    ## O(N) * O(logN) -> O(N logN)인데, 사실 O(N)임\n",
    "    n = len(A)\n",
    "\n",
    "    for k in range(n-1, -1, -1) :\n",
    "        heapify_down(k, n) ## A[k], heap 원소 갯수\n",
    "```"
   ]
  },
  {
   "cell_type": "markdown",
   "id": "bc8b7ece",
   "metadata": {},
   "source": [
    "$$\\begin{align}S & = \\sum_{i=0}^{h}2^i(h-i) \\\\\n",
    "& = h\\times 2^0 + (h-1)\\times 2^1 + \\cdots + 2\\times 2^{h-2} + 1\\times 2^{h-1} \\\\\n",
    "& = 2^{h-1} + 2\\times 2^{h-2} + \\cdots + (h-1) \\times 2 + h \\\\ \\\\\n",
    "\n",
    "\\frac12 S & = ~~~~~~~~~~~~~~~~~~~ 2^{h-2} + \\cdots + (h-2) \\times 2 + (h-1) + \\frac{h}{2} \\\\ \\\\\n",
    "\\Rightarrow S - \\frac12 S & = 2^{h-1} + 2^{h-2} + \\cdots + 2 + 1 + \\frac{h}{2} \\\\\n",
    "& = \\sum_{i=0}^{h-1} 2^i - \\frac{h}{2} = \\frac{2^{h-1} - 1}{2-1} - \\frac12 \\log_2{n} \\\\\n",
    "& = 2^{\\log_2{n} - 1} - \\frac12 \\log_2{n} \\\\\n",
    "& = \\frac12 n - \\frac12 \\log_2{n} \\\\\n",
    "\n",
    "\\Rightarrow & \\text{w.c time complexity} = O(n)\n",
    "\\end{align}$$"
   ]
  },
  {
   "cell_type": "markdown",
   "id": "49aff88e",
   "metadata": {},
   "source": [
    "`-` `insert`"
   ]
  },
  {
   "cell_type": "markdown",
   "id": "261bc069",
   "metadata": {},
   "source": [
    "```Python\n",
    "A = [15, 12, 6, 11, 10, 2, 3, 1, 8] ## Heap임\n",
    "\n",
    "A.insert(14) ## Heap의 모양 성질을 만족하면서 들어오게 되면(맨 마지막 오른쪽 끝에 들어옴) 힙이 깨짐 -> make_heap을 해주면 됨\n",
    "```"
   ]
  },
  {
   "cell_type": "markdown",
   "id": "7f552428",
   "metadata": {},
   "source": [
    "```{raw}\n",
    "algorithm insert(key) :\n",
    "    A.append(key)\n",
    "    idx = len(A)\n",
    "    A.heapify_up(idx) ## A[k]를 root 방향으로 이동하면서 heapify : O(logN)\n",
    "\n",
    "algorithm heapify_up(k) :\n",
    "    ## leaf node를 맨 위로 올리는 경우가 있으므로 O(logN)\n",
    "    while k > 0 and A[(k-1)//2] < A[k] :\n",
    "        Ak = A[k]\n",
    "        A[k] = A[(k-1)//2]\n",
    "        A[(k-1)//2] = Ak\n",
    "\n",
    "        k = (k-1)//2\n",
    "```\n",
    "\n",
    "> `A`를 힙으로 만들려면 `insert`를 n번 반복해도 됨(O(NlogN). 물론 make_heap이 더 빠름)"
   ]
  },
  {
   "cell_type": "markdown",
   "id": "ee551ded",
   "metadata": {},
   "source": [
    "`-` `find_max`\n",
    "\n",
    "* 전체 값 중 가장 큰 값이 힙의 루트 노드에 저장되어 있으므로 1회 연산하며, $O(1)$\n",
    "\n",
    "```{raw}\n",
    "algorithm find_max(A) :\n",
    "    return A[0]\n",
    "```"
   ]
  },
  {
   "cell_type": "markdown",
   "id": "de60da0e",
   "metadata": {},
   "source": [
    "`-` `delete_max`\n",
    "\n",
    "* 만약 root node가 없어지면, 아래에 있는 애들을 다 갈아엎어야 함. 일단 최소 $O(n)$\n",
    "* 가장 마지막에 들어있는 leaf node 값을 root node로 옮기고, `heapify_down`을 해줘야 함 -> $O(logN)$\n",
    "\n",
    "```{raw}\n",
    "algorithm heapify_down() :\n",
    "    ## 똑같이 O(logN)\n",
    "    while k <= (len(A)-1) :\n",
    "        if A[2*k + 1] > A[2*k + 2] :\n",
    "            if A[k] < A[2*k + 1] :\n",
    "                Ak = A[k]\n",
    "                A[k] = A[2*k + 1]\n",
    "                A[2*k + 1] = Ak\n",
    "            else :\n",
    "                break\n",
    "        else :\n",
    "            if A[k] < A[2*k + 2] :\n",
    "                Ak = A[k]\n",
    "                A[k] = A[2*k + 2]\n",
    "                A[2*k + 2] = Ak\n",
    "            else :\n",
    "                break\n",
    "\n",
    "\n",
    "algorithm delete_max() :\n",
    "    if len(A) == 0 :\n",
    "        return None\n",
    "\n",
    "    A[0] = A[len(A)-1]\n",
    "    del A[len(A)-1] ## A.pop()\n",
    "\n",
    "    A.heapify_down(0, n) ## O(logN)\n",
    "```"
   ]
  },
  {
   "cell_type": "markdown",
   "id": "23d66371",
   "metadata": {},
   "source": [
    "> 단, 힙에서는 `search` 함수를 지원하지 않음 -> 어떤 노드로 갈지 모름 : 그냥 전역 탐색하는 게 제일 빠름 $O(n)$\n",
    ">\n",
    "> 지금까지는 Max-Heap이고, 반대로 하면 Min-Heap도 만들 수 있음\n",
    "\n",
    "\n",
    "`-` 힙을 이용해 정렬도 가능 : Heap Sort\n",
    "\n",
    "```Python\n",
    "A.make_heap() ## O(nlogn)\n",
    "sorted_A = [0]*n\n",
    "\n",
    "for k in range(n) :\n",
    "    sorted_A[k] = A.delete_max()\n",
    "```"
   ]
  },
  {
   "cell_type": "markdown",
   "id": "6cb12569",
   "metadata": {},
   "source": [
    "`-` 구현"
   ]
  },
  {
   "cell_type": "code",
   "execution_count": null,
   "id": "c71d8c41",
   "metadata": {},
   "outputs": [],
   "source": [
    "class Heap :\n",
    "    def __init__(self, A) :\n",
    "        self.A = A\n",
    "        self.depth = len(A)\n",
    "    \n",
    "    def __len__(self) :\n",
    "        return len(self.A)\n",
    "    \n",
    "    def __repr__(self) :\n",
    "        return self.A.__repr__()\n",
    "    \n",
    "    def heapify_down(self, k) :\n",
    "        while 2*k+1 <= len(self.A)-1 :\n",
    "            L, R = (2*k + 1, 2*k + 2)\n",
    "            \n",
    "            if 2*k+2 > len(self.A)-1 :\n",
    "                R = L\n",
    "\n",
    "            m = [k, L, R][[self.A[k], self.A[L], self.A[R]].index(max([self.A[k], self.A[L], self.A[R]]))]\n",
    "            \n",
    "            if k != m :\n",
    "                Ak = self.A[k]\n",
    "                self.A[k] = self.A[m]\n",
    "                self.A[m] = Ak\n",
    "                \n",
    "                k = m\n",
    "                \n",
    "            else :\n",
    "                break\n",
    "            \n",
    "    def heapify_up(self, k)     :\n",
    "        while k > 0 and self.A[k] > self.A[(k-1)//2] :\n",
    "            Ak = self.A[k]\n",
    "            self.A[k] = self.A[(k-1)//2]\n",
    "            self.A[(k-1)//2] = Ak\n",
    "            \n",
    "            k = (k-1)//2\n",
    "        \n",
    "    def make_heap(self) :\n",
    "        n = len(self.A)\n",
    "        \n",
    "        for k in range(n-1, -1, -1) :\n",
    "            self.heapify_down(k)\n",
    "            \n",
    "    def insert(self, key) :\n",
    "        self.A.append(key)\n",
    "        self.heapify_up(len(self.A) - 1)\n",
    "        \n",
    "    def find_max(self) :\n",
    "        return self.A[0]\n",
    "    \n",
    "    def delete_max(self) :\n",
    "        ## 임의의 노드 삭제 시 리스트와 시간복잡도가 동일하므로 사용할 이유가 없음\n",
    "        self.A[0] = self.A[-1]\n",
    "        del self.A[-1]\n",
    "        \n",
    "        self.heapify_down(0) ## O(logN)"
   ]
  },
  {
   "cell_type": "code",
   "execution_count": null,
   "id": "c595dae8",
   "metadata": {},
   "outputs": [
    {
     "name": "stdout",
     "output_type": "stream",
     "text": [
      "[81, 56, 13, 10, 8, 5, 11, 9, 7, 3]\n",
      "[101, 81, 13, 10, 56, 5, 11, 9, 7, 3, 8]\n",
      "[81, 56, 13, 10, 8, 5, 11, 9, 7, 3]\n"
     ]
    }
   ],
   "source": [
    "A = [5, 8, 11, 7, 56, 13, 81, 9, 10, 3]\n",
    "Hp = Heap(A)\n",
    "\n",
    "Hp.make_heap() ## O(n)\n",
    "print(Hp)\n",
    "Hp.insert(101) ## O(log n)\n",
    "print(Hp)\n",
    "Hp.delete_max() ## O(1)\n",
    "print(Hp)"
   ]
  },
  {
   "cell_type": "markdown",
   "id": "11daec5b",
   "metadata": {},
   "source": [
    "`-` Heap Sort : $O(n \\log n)$"
   ]
  },
  {
   "cell_type": "code",
   "execution_count": null,
   "id": "0b09c7ae",
   "metadata": {},
   "outputs": [
    {
     "data": {
      "text/plain": [
       "[81, 56, 13, 11, 10, 9, 8, 7, 5, 3]"
      ]
     },
     "execution_count": 47,
     "metadata": {},
     "output_type": "execute_result"
    }
   ],
   "source": [
    "A = [5, 8, 11, 7, 56, 13, 81, 9, 10, 3]\n",
    "Hp = Heap(A)\n",
    "\n",
    "Hp.make_heap() ## O(n)\n",
    "sorted_A = [0]*len(Hp)\n",
    "\n",
    "for k in range(len(Hp)) :\n",
    "    sorted_A[k] = Hp.find_max()\n",
    "    Hp.delete_max() ## O(log n)\n",
    "    \n",
    "sorted_A ## O(nlog n)"
   ]
  },
  {
   "cell_type": "markdown",
   "id": "61da8c0e",
   "metadata": {},
   "source": [
    "## 3. 이진 트리 Binary Tree"
   ]
  },
  {
   "cell_type": "markdown",
   "id": "1be2ee2f",
   "metadata": {},
   "source": [
    "`-` 이진 트리의 표현법\n",
    "\n",
    "* 배열/리스트로 구현 : Heap\n",
    "* 노드와 링크를 직접 구현하여 생성 -> 특정 노드는 부모노드와 자식노드의 링크를 가지고 있음"
   ]
  },
  {
   "cell_type": "markdown",
   "id": "46ecf524",
   "metadata": {},
   "source": [
    "`-` 노드 클래스 구현"
   ]
  },
  {
   "cell_type": "code",
   "execution_count": 5,
   "id": "612b0549",
   "metadata": {},
   "outputs": [],
   "source": [
    "class Node :\n",
    "    def __init__(self, key = None) :\n",
    "        self.key = key\n",
    "        self.parent = None\n",
    "        self.left = None\n",
    "        self.right = None\n",
    "        \n",
    "    def __str__(self) :\n",
    "        return str(self.key)\n",
    "    \n",
    "    def __repr__(self) :\n",
    "        return str(self.key)"
   ]
  },
  {
   "cell_type": "code",
   "execution_count": 6,
   "id": "c0254cdb",
   "metadata": {},
   "outputs": [],
   "source": [
    "a = Node(6)\n",
    "b = Node(9)\n",
    "c = Node(1)\n",
    "d = Node(5)\n",
    "\n",
    "a.left = b\n",
    "a.right = c\n",
    "b.parent = a\n",
    "c.parent = a\n",
    "b.right = d\n",
    "d.parent = b"
   ]
  },
  {
   "cell_type": "code",
   "execution_count": null,
   "id": "81ace1e8",
   "metadata": {},
   "outputs": [
    {
     "data": {
      "text/plain": [
       "5"
      ]
     },
     "execution_count": 10,
     "metadata": {},
     "output_type": "execute_result"
    }
   ],
   "source": [
    "a.left.right"
   ]
  },
  {
   "cell_type": "code",
   "execution_count": null,
   "id": "b968df98",
   "metadata": {},
   "outputs": [
    {
     "data": {
      "text/plain": [
       "6"
      ]
     },
     "execution_count": 11,
     "metadata": {},
     "output_type": "execute_result"
    }
   ],
   "source": [
    "d.parent.parent"
   ]
  },
  {
   "cell_type": "markdown",
   "id": "21176ee5",
   "metadata": {},
   "source": [
    "`-` 순회 Traversal : 이진트리 노드의 key 값을 빠짐없이 출력하는 방법\n",
    "\n",
    "* pre-order\n",
    "> M, L, R 순서대로 방문\n",
    ">\n",
    "> 자신 노드를 방문하고, 왼쪽 서브 트리 전부 방문, 오른쪽 서브 트리 전부 방문\n",
    "\n",
    "\n",
    "* in-order\n",
    "> L, M, R 순서대로 방문\n",
    ">\n",
    "> 왼쪽 서브 트리 전부 방문, 자신 노드 방문, 오른쪽 서브 트리 전부 방문\n",
    "\n",
    "* post-order\n",
    "> L, R, M 순서대로 방문\n",
    ">\n",
    "> 리프 노드를 최우선하여 순회 출력"
   ]
  },
  {
   "cell_type": "code",
   "execution_count": 99,
   "id": "508eb214",
   "metadata": {},
   "outputs": [],
   "source": [
    "class Node :\n",
    "    def __init__(self, key = None) :\n",
    "        self.key = key\n",
    "        self.parent = None\n",
    "        self.left = None\n",
    "        self.right = None\n",
    "        self.ordered = []\n",
    "        self.position = 0\n",
    "        \n",
    "    def __str__(self) :\n",
    "        return str(self.key)\n",
    "    \n",
    "    def __repr__(self) :\n",
    "        return str(self.key)\n",
    "        \n",
    "    def preorder(self) :\n",
    "        if self != None :\n",
    "            print(self.key) ## 현재 노드가 있으면 호출\n",
    "            if self.left != None :\n",
    "                self.left.preorder() ## 다음 노드에서 재귀적으로 호출\n",
    "            if self.right != None :\n",
    "                self.right.preorder()\n",
    "                \n",
    "    def inorder(self) :\n",
    "        if self != None :\n",
    "            if self.left != None :\n",
    "                self.left.inorder()    \n",
    "            print(self.key)\n",
    "            if self.right != None :\n",
    "                self.right.inorder()\n",
    "                \n",
    "    def postorder(self) :\n",
    "        if self != None :\n",
    "            if self.left != None :\n",
    "                self.left.postorder()\n",
    "            if self.right != None :\n",
    "                self.right.postorder()\n",
    "            print(self.key)\n",
    "            \n",
    "    def __gen_ordered_list__(self, ordered) :\n",
    "        if self != None :\n",
    "            if self.left != None :\n",
    "                self.left.__gen_ordered_list__(ordered)\n",
    "            ordered.append(self.key)\n",
    "            if self.right != None :\n",
    "                self.right.__gen_ordered_list__(ordered)\n",
    "    \n",
    "    def __iter__(self) :\n",
    "        self.position = 0\n",
    "        self.ordered = []\n",
    "        self.__gen_ordered_list__(self.ordered)\n",
    "        return self\n",
    "    \n",
    "    def __next__(self) :\n",
    "        ## next inorder\n",
    "        if self.position >= len(self.ordered) :\n",
    "            raise StopIteration\n",
    "        \n",
    "        result = self.ordered[self.position]\n",
    "        self.position += 1\n",
    "        \n",
    "        return result"
   ]
  },
  {
   "cell_type": "markdown",
   "id": "be68d870",
   "metadata": {},
   "source": [
    "`preorder`, `inorder` 시퀀스만으로 원래 이진트리 복원\n",
    "\n",
    "* preorder : `A, B, D, F, C, E`\n",
    "* inorder : `B, F, D, A, E, C`\n",
    "> 1. M, L, R 순서대로 -> `A`와 나머지로 분리\n",
    ">\n",
    "> 2. L, M, R 순서대로 -> `A`를 중심으로 양옆으로 분리\n",
    ">\n",
    "> 3. 서브트리를 재귀적으로 호출"
   ]
  },
  {
   "cell_type": "code",
   "execution_count": 100,
   "id": "7c6de0a7",
   "metadata": {},
   "outputs": [],
   "source": [
    "preorder = [\"A\", \"B\", \"D\", \"F\", \"C\", \"E\"]\n",
    "inorder = [\"B\", \"F\", \"D\", \"A\", 'E', 'C']\n",
    "\n",
    "def traversal(pretree, intree) :\n",
    "    if len(pretree) > 0 :\n",
    "        root = Node(pretree[0])\n",
    "        left_intree = intree[:intree.index(root.key)]\n",
    "        left_pretree = [k for k in pretree if k in left_intree]\n",
    "        right_intree = intree[(intree.index(root.key)+1):]\n",
    "        right_pretree = [k for k in pretree if k in right_intree]\n",
    "    \n",
    "        if len(left_intree) > 0 :\n",
    "            root.left = traversal(left_pretree, left_intree)\n",
    "        \n",
    "        if len(right_intree) > 0 :\n",
    "            root.right = traversal(right_pretree, right_intree)\n",
    "\n",
    "        return root\n",
    "\n",
    "    else :\n",
    "        return None\n",
    "\n",
    "tmp = traversal(preorder, inorder)"
   ]
  },
  {
   "cell_type": "code",
   "execution_count": null,
   "id": "d953102f",
   "metadata": {},
   "outputs": [
    {
     "name": "stdout",
     "output_type": "stream",
     "text": [
      "B\n",
      "F\n",
      "D\n",
      "A\n",
      "E\n",
      "C\n"
     ]
    }
   ],
   "source": [
    "## iterator 생성\n",
    "for t in tmp :\n",
    "    print(t)"
   ]
  },
  {
   "cell_type": "markdown",
   "id": "51f15683",
   "metadata": {},
   "source": [
    "`-` 대충 이래 하면 되겠구나 싶어서 해봤는데, 일단 됐음"
   ]
  },
  {
   "cell_type": "code",
   "execution_count": null,
   "id": "2b356035",
   "metadata": {},
   "outputs": [
    {
     "name": "stdout",
     "output_type": "stream",
     "text": [
      "F\n",
      "E\n"
     ]
    }
   ],
   "source": [
    "print(tmp.left.right.left)\n",
    "print(tmp.right.left)"
   ]
  },
  {
   "cell_type": "markdown",
   "id": "fc75175d",
   "metadata": {},
   "source": [
    "## 4. 이진 탐색 트리 Binary Search Tree"
   ]
  },
  {
   "attachments": {
    "image.png": {
     "image/png": "[encoded data removed]"
    }
   },
   "cell_type": "markdown",
   "id": "534a7db8",
   "metadata": {},
   "source": [
    "`-` 조건\n",
    "\n",
    "* 각 노드의 왼쪽 subtree의 모든 key 값은 노드의 key 값보다 작거나 같아야 한다.\n",
    "* 각 노드의 오른쪽 subtree의 모든 key 값은 노드의 key 값보다 커야 한다.\n",
    "\n",
    "![image.png](attachment:image.png)"
   ]
  },
  {
   "cell_type": "markdown",
   "id": "796b2b24",
   "metadata": {},
   "source": [
    "* `search(19)`를 하면...\n",
    "\n",
    "> 1. root node의 값보다 크니까 오른쪽\n",
    "> 2. 해당 노드의 값보단 작으니까 왼쪽\n",
    "> 3. 해당 노드의 값보다 크니까 왼쪽 -> 도착!\n",
    "\n",
    "* `search(5)`를 하면...\n",
    "\n",
    "> 1. root node의 값보다 작으니까 왼쪽\n",
    "> 2. 해당 노드의 값보다 큰데 오른쪽에 노드가 비어있으므로 트리에 존재하지 않음 -> None\n",
    "\n",
    "\n",
    "> 탐색에 트리의 최대 높이만큼의 시간이 걸림 -> $O(h)$(노드가 꽉 차있을 경우 $O(\\log n)$)"
   ]
  },
  {
   "cell_type": "markdown",
   "id": "f4cc3d82",
   "metadata": {},
   "source": [
    "`-` 구현"
   ]
  },
  {
   "cell_type": "code",
   "execution_count": null,
   "id": "d27486af",
   "metadata": {},
   "outputs": [],
   "source": [
    "class BST :\n",
    "    def __init__(self) :\n",
    "        self.root = None\n",
    "        self.size = 0\n",
    "        \n",
    "    def __len__(self) :\n",
    "        return self.size\n",
    "    \n",
    "    def __str__(self) :\n",
    "        return self.root\n",
    "    \n",
    "    def __iter__(self) :\n",
    "        self.root.__iter__()\n",
    "    \n",
    "    def __next__(self) :\n",
    "        ## 이거 안되긴 할텐데, 잘 몰루?\n",
    "        self.root.__next__()\n",
    "        \n",
    "    def find_loc(self, key) :\n",
    "        ## key 값 노드가 있다면 해당 노드 리턴\n",
    "        ## 없다면 노드가 삽입될 부모 노드 리턴 : 왜?\n",
    "        if self.size == 0 :\n",
    "            return None\n",
    "        \n",
    "        p = None\n",
    "        v = self.root\n",
    "        \n",
    "        while v != None :    \n",
    "            if k == v.key :\n",
    "                return v ## 있다면 해당 노드 리턴\n",
    "            elif k > v.key :\n",
    "                p = v\n",
    "                v = v.right\n",
    "                v.find_loc(k)\n",
    "            else :\n",
    "                p = v\n",
    "                v = v.left\n",
    "                v.find_loc(k)\n",
    "        \n",
    "        return p ## 없다면 부모 노드 리턴\n",
    "    \n",
    "    def search(self, key) :\n",
    "        n = self.find_loc(key)\n",
    "        if n.key != key :\n",
    "            return None\n",
    "        else :\n",
    "            return n\n",
    "    \n",
    "    def insert(self, key) :\n",
    "        p = self.find_loc(key) ## 해당 노드가 없으면 부모 노드를 반환\n",
    "        v = Node(key)\n",
    "        \n",
    "        if p == None :\n",
    "            self.root = v\n",
    "        elif p.key != key :\n",
    "            v.parent = p\n",
    "            \n",
    "            if key < p.key :\n",
    "                p.left = v\n",
    "            else :\n",
    "                p.right = v\n",
    "                \n",
    "            self.size += 1\n",
    "            return v ## 새로 삽입된 노드를 반환\n",
    "        \n",
    "        else :\n",
    "            print(\"Key is already in tree\")\n",
    "            return None ## 이미 있는 노드를 insert하려고 했음\n",
    "        \n",
    "    def deleteByMerging(self, x) :\n",
    "        ## 노드 x를 삭제 -> 노드가 있다고 가정\n",
    "        ## x 자리에 Left SubTree를 부착하고, Left SubTree의 가장 큰 원소(우측 끝) 아래에 Right SubTree를 부착\n",
    "        ## m을 찾기 위해 사용되는 시간이 가장 많음 -> O(h)\n",
    "        ## 그런데 이러면 depth가 너무 깊어지는 거 아닌가?\n",
    "        a = x.left\n",
    "        b = x.right\n",
    "        p = x.parent\n",
    "        c = None\n",
    "        \n",
    "        if a != None :\n",
    "            c = a\n",
    "            m = a\n",
    "            while m.right != None :\n",
    "                m = m.right\n",
    "            \n",
    "            if b != None :\n",
    "                b.pareng = m\n",
    "                m.right = b\n",
    "        \n",
    "        else :\n",
    "            c = b ## b == None이면 None일 수 있음(x가 리프 노드인 경우)\n",
    "        \n",
    "        if p == None :\n",
    "            ## x가 root node인 경우\n",
    "            self.root = c\n",
    "            if c != None :\n",
    "                c.parent = None ## c가 존재하는 경우(자식 노드가 있는 경우 == 트리의 크기가 1이 아닌 경우)\n",
    "                \n",
    "        else :\n",
    "            if c != None :\n",
    "                c.parent = p\n",
    "            elif p.key < c.key :\n",
    "                p.right = c\n",
    "            else :\n",
    "                p.left = c\n",
    "        \n",
    "        self.size -= 0\n",
    "        return None\n",
    "    \n",
    "    def deleteByCopying(self, x) :\n",
    "        ## L에 들어있는 값 중에서 m을 copy해서 들여오는 것\n",
    "        ## m의 Left SubTree를 m의 자리로 옮김 : m의 Right SubTree는 정의 상 존재할 수 없음\n",
    "        ## m을 찾는데 사용되는 시간이 가장 많음 -> O(h)\n",
    "        a = x.left\n",
    "        b = x.right\n",
    "        p = x.parent\n",
    "        c = None\n",
    "        \n",
    "        if a != None :\n",
    "            m = a\n",
    "            \n",
    "            while m.right != None :\n",
    "                m = m.right\n",
    "            \n",
    "            c = m\n",
    "        \n",
    "        else :\n",
    "            c = b\n",
    "            \n",
    "        if p == None :\n",
    "            self.root = None\n",
    "        \n",
    "        elif c == None :\n",
    "            if x.key > p.key :\n",
    "                p.right = None\n",
    "            else :\n",
    "                p.left = None\n",
    "        \n",
    "        else :        \n",
    "            if c.key > p.key :\n",
    "                p.right = c\n",
    "            else :\n",
    "                p.left = c\n",
    "                \n",
    "        self.size -= 1\n",
    "        return None"
   ]
  },
  {
   "cell_type": "markdown",
   "id": "cfa0d8ee",
   "metadata": {},
   "source": [
    "* `insert`, `search`(`find_loc`), `delete`(`merging`, `copying`) : $O(h)$\n",
    "* `insert`, `delete`는 모두 `search`에 영향을 받음\n",
    "> $h$가 얼마일지는 아직 모름 -> `insert`순서에 따라 같은 원소가 들어있더라도 level이 다를 수 있음\n",
    ">\n",
    "> BST의 level을 최대한 작게 유지하는 것이 좋음..."
   ]
  }
 ],
 "metadata": {
  "kernelspec": {
   "display_name": "base",
   "language": "python",
   "name": "python3"
  },
  "language_info": {
   "codemirror_mode": {
    "name": "ipython",
    "version": 3
   },
   "file_extension": ".py",
   "mimetype": "text/x-python",
   "name": "python",
   "nbconvert_exporter": "python",
   "pygments_lexer": "ipython3",
   "version": "3.12.7"
  }
 },
 "nbformat": 4,
 "nbformat_minor": 5
}
