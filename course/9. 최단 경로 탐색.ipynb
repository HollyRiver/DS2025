{
 "cells": [
  {
   "cell_type": "markdown",
   "id": "6ff56dde",
   "metadata": {},
   "source": [
    "# 최단 경로 탐색"
   ]
  },
  {
   "cell_type": "markdown",
   "id": "32a5840b",
   "metadata": {},
   "source": [
    "## 1. Bellman Ford 알고리즘"
   ]
  },
  {
   "cell_type": "markdown",
   "id": "5c95de37",
   "metadata": {},
   "source": [
    "s -> v의 최단경로를 알고 있다면, s에서 v 이전 노드들까지 가는 최단경로도 동일하게 알 수 있음"
   ]
  },
  {
   "cell_type": "markdown",
   "id": "4b21a742",
   "metadata": {},
   "source": [
    "`dist[v]` : s에서 v로 가는 최단 경로의 길이\n",
    "\n",
    "> `dist[v] = min(dist[u1] + w(u1, v), dist[u2] + w(u2, v), ..., dist[um] + w(um, v))`\n",
    ">\n",
    "> 이전 노드들까지의 최단 경로 길이에 이전 노드까지의 길이를 더하여 구함"
   ]
  },
  {
   "cell_type": "markdown",
   "id": "8a6783a0",
   "metadata": {},
   "source": [
    "`-` 구현\n",
    "\n",
    "* source 노드의 dist는 0으로, 나머지 노드들은 무한대로 설정\n",
    "\n",
    "```{raw}\n",
    "for i in range(n-1) :\n",
    "    for (u, v) in G.Edge :\n",
    "        if dist[v] > dist[u] + w(u, v) :\n",
    "            dist[v] = dist[u] + w(u, v) ## relax\n",
    "```"
   ]
  },
  {
   "cell_type": "markdown",
   "id": "100b37bf",
   "metadata": {},
   "source": [
    "> 라운드를 돌 때마다 모든 엣지의 릴렉스를 시도하므로, 엣지의 최대값은 $n^2$, 라운드는 $n-1$. $O(n^3)$ 알고리즘이 됨"
   ]
  },
  {
   "cell_type": "markdown",
   "id": "e9eee9d0",
   "metadata": {},
   "source": [
    "## 2. Dijkstra 알고리즘"
   ]
  },
  {
   "cell_type": "markdown",
   "id": "3f85d17f",
   "metadata": {},
   "source": [
    "* $O(n^3)$는 너무 느림..."
   ]
  },
  {
   "cell_type": "markdown",
   "id": "5ec77540",
   "metadata": {},
   "source": [
    "```{raw}\n",
    "Q = min_heap with dist[v] as keys\n",
    "\n",
    "while Q != None :\n",
    "    u = Q.deleteMin()\n",
    "\n",
    "    for v in G[u] :\n",
    "        relax(u, v)\n",
    "        Q.decreaseKey(v, dist[v])\n",
    "```"
   ]
  },
  {
   "cell_type": "markdown",
   "id": "cc3233e1",
   "metadata": {},
   "source": [
    "> 개어려움. $O(n^2 \\log n)$ 나옴\n",
    ">\n",
    "> 피보나치 힙을 쓰면 $O(n^2)$"
   ]
  },
  {
   "cell_type": "markdown",
   "id": "5133fd77",
   "metadata": {},
   "source": [
    "## 3. 예제 설명"
   ]
  },
  {
   "cell_type": "markdown",
   "id": "dea40056",
   "metadata": {},
   "source": [
    "```Python\n",
    "s = 0 ## node 0 is source\n",
    "dist = [0] + [float(\"inf\") for _ in range(n-1)]\n",
    "parent = [None for _ in range(n)]\n",
    "Q = all nodes v with key of dist[v]\n",
    "\n",
    "while len(Q) > 0 :\n",
    "    u = Q.deleteMin()\n",
    "\n",
    "    for v in G[u] :\n",
    "        relax(u, v)\n",
    "        Q.decreaseKey(v, dist[v])\n",
    "```"
   ]
  },
  {
   "cell_type": "markdown",
   "id": "c323b550",
   "metadata": {},
   "source": [
    "## 4. All-to-All Shortest Path Problem"
   ]
  },
  {
   "cell_type": "markdown",
   "id": "4852b337",
   "metadata": {},
   "source": [
    "`-` `for each node s in V : Dijkstra(s)`\n",
    "\n",
    "> $O(n^3 \\log n)$\n",
    ">\n",
    "> 본질적으로 greedy algorithm임 + relax(u, v)에서 DP의 성질도 가짐"
   ]
  },
  {
   "cell_type": "markdown",
   "id": "bc5663f7",
   "metadata": {},
   "source": [
    "`-` DP : Floyd-Warshall 알고리즘\n",
    "\n",
    "```{raw}\n",
    "for i in range(1, n+1) :\n",
    "    for j in range(1, n+1) :\n",
    "        # p(i, j) 계산 ## p(i, j) : i -> j 상의 최단 경로\n",
    "        d(i, j) 계산 ## 위와 동일함 O(n)\n",
    "```\n",
    "\n",
    "> $O(n^3)$에 계산 가능"
   ]
  },
  {
   "cell_type": "markdown",
   "id": "a7d6e7b1",
   "metadata": {},
   "source": [
    "1. 최단경로를 분석\n",
    "\n",
    "> `p(i, j) = p(i, k) + p(k, j)` -> `d(i, j) = d(i, k) + d(k, j)`\n",
    "\n",
    "```Python\n",
    "d = [[0 for _ in range(n)] for _ in range(n)]\n",
    "\n",
    "for i in range(n) :\n",
    "    for j in range(n) :\n",
    "        if i == j  :\n",
    "            d[i][j] = 0\n",
    "        else :\n",
    "            if (i, j) in E :\n",
    "                d[i][j] = w(i, j)\n",
    "            else :\n",
    "                d[i][j] = float(\"inf\")\n",
    "\n",
    "for k in range(n) :\n",
    "    dkm = copy.deepcopy(d)\n",
    "\n",
    "    for i in range(n) :\n",
    "        for j in range(j) :\n",
    "            d[i][j] = min([dkm[i][j], dkm[i][k] + dkm[k][j]] ## O(N)\n",
    "```\n",
    "\n",
    "> time : $O(N^3)$\n",
    ">\n",
    "> memory : $O(n^2)$"
   ]
  },
  {
   "cell_type": "markdown",
   "id": "0ab7f845",
   "metadata": {},
   "source": []
  }
 ],
 "metadata": {
  "language_info": {
   "name": "python"
  }
 },
 "nbformat": 4,
 "nbformat_minor": 5
}
