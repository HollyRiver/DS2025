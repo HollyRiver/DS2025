{
 "cells": [
  {
   "cell_type": "markdown",
   "id": "2b70b278",
   "metadata": {},
   "source": [
    "# 순차적 자료구조"
   ]
  },
  {
   "cell_type": "markdown",
   "id": "2946b488",
   "metadata": {},
   "source": [
    "## 1. 개요"
   ]
  },
  {
   "cell_type": "markdown",
   "id": "1b7f12e4",
   "metadata": {},
   "source": [
    "### A. 배열과 리스트"
   ]
  },
  {
   "cell_type": "markdown",
   "id": "cab242a8",
   "metadata": {},
   "source": [
    "`-` array, list\n",
    "\n",
    "* 가장 기본적인 sequential 자료구조\n",
    "* 읽기와 쓰기는 $O(1)$ 기본연산임 -> 리스트 원소의 주소를 가져오는 방식 : `id(A[2]) == id(A[0]) + 2*4bytes`\n",
    "* 상수 시간 내에 개별 원소에 접근 가능한 자료구조를 배열이고 한다.\n",
    "\n",
    "`-` Python : `List[]`\n",
    "\n",
    "* 리스트의 각 원소가 따로 메모리를 차지함\n",
    "* 리스트 인덱스는 원소가 저장된 메모리 주소를 가리킴\n",
    "* 리스트 원소값을 바꿀 경우 객체는 그대로 남아있고, 인덱스가 가리키는 주소만 바뀌는 것임\n"
   ]
  },
  {
   "cell_type": "markdown",
   "id": "17ebf18f",
   "metadata": {},
   "source": [
    "`-` 리스트 사용\n",
    "\n",
    "> 인덱싱, 삽입(append, insert), 삭제(pop, remove) 연산 존재\n",
    ">\n",
    "> 맨뒤의 경우 $O(n)$, 중간에 있는 값에 대한 연산을 위해서는 $O(n)$\n",
    "\n",
    "* **`list().append()`** : 맨 뒤에 값을 삽입\n",
    "\n",
    "* **`list().insert(i, v)`** : i번째에 v값을 삽입\n",
    "\n",
    "* **`list().pop(i)`** : i번째 값을 제거하고 리턴\n",
    "\n",
    "* **`list().remove(v)`** : 리스트에서 v에 해당하는 값을 제거\n",
    "\n",
    "* **`list().index(v)`, `list().count(v)`** : v의 인덱스, v의 개수를 리턴"
   ]
  },
  {
   "cell_type": "code",
   "execution_count": 16,
   "id": "18451d08",
   "metadata": {},
   "outputs": [
    {
     "name": "stdout",
     "output_type": "stream",
     "text": [
      "A.append(6) : [2, 4, 0, 5, 6]\n",
      "A.insert(0, -3) : [-3, 2, 4, 0, 5, 6]\n",
      "A.pop(0) : -3\n",
      "result : [2, 4, 0, 5, 6]\n",
      "A.remove(0) : [2, 4, 5, 6]\n",
      "A.index(6) & A.count(6) : 3 & 1\n"
     ]
    }
   ],
   "source": [
    "A = [2, 4, 0, 5]\n",
    "\n",
    "A.append(6)\n",
    "print(f\"A.append(6) : {A}\")\n",
    "A.insert(0, -3)\n",
    "print(f\"A.insert(0, -3) : {A}\")\n",
    "print(f\"A.pop(0) : {A.pop(0)}\\nresult : {A}\")\n",
    "A.remove(0)\n",
    "print(f\"A.remove(0) : {A}\")\n",
    "print(f\"A.index(6) & A.count(6) : {A.index(6)} & {A.count(6)}\")"
   ]
  },
  {
   "cell_type": "markdown",
   "id": "25fcd981",
   "metadata": {},
   "source": [
    "### B. 파이썬의 리스트"
   ]
  },
  {
   "cell_type": "markdown",
   "id": "bacf396c",
   "metadata": {},
   "source": [
    "`-` Dynamic Array\n",
    "\n",
    "* 용량 Capacity 을 자동 조절"
   ]
  },
  {
   "cell_type": "code",
   "execution_count": null,
   "id": "3cc71da1",
   "metadata": {},
   "outputs": [
    {
     "name": "stdout",
     "output_type": "stream",
     "text": [
      "56\n",
      "88\n"
     ]
    }
   ],
   "source": [
    "import sys\n",
    "\n",
    "A = []\n",
    "print(sys.getsizeof(A)) ## A가 차지하는 메모리 사이즈를 리턴\n",
    "\n",
    "A.insert(0, 18)\n",
    "print(sys.getsizeof(A)) ## 차지하는 메모리 공간이 커짐"
   ]
  },
  {
   "cell_type": "markdown",
   "id": "db25e3e2",
   "metadata": {},
   "source": [
    "`-` `List class`\n",
    "\n",
    "* `capacity` : 용량 (초기 용량이 있음)\n",
    "* `n` : 현재 저장된 값의 개수 (default = 0)\n",
    "\n",
    "\n",
    "`A.append(x)`의 내부 동작 workflow\n",
    "\n",
    "```Python\n",
    "if A.n < A.capacity :\n",
    "    A[n] = x\n",
    "    A.n = n+1\n",
    "else :\n",
    "    ## 용량을 증가시킴\n",
    "    A.n == A.capacity\n",
    "    B = A.capacity*2 크기의 리스트\n",
    "\n",
    "    ## O(n)만큼의 시간 필요(대입 연산)\n",
    "    for i in range(n) :\n",
    "        B[i] = A[i]\n",
    "\n",
    "    del A\n",
    "    A = B\n",
    "\n",
    "    A[n] = x\n",
    "    A.n = n+1\n",
    "```\n"
   ]
  },
  {
   "cell_type": "markdown",
   "id": "2b3cd41d",
   "metadata": {},
   "source": [
    "### C. stack, queue, dequeue\n",
    "\n",
    "제한된 접근(삽입, 삭제)만 허용"
   ]
  },
  {
   "cell_type": "markdown",
   "id": "1353107c",
   "metadata": {},
   "source": [
    "`-` stack : LIFO Last In First Out 후입선출 구조\n",
    "\n",
    "* 위에서부터 차곡차곡 쌓이는 자료구조 : push\n",
    "* 위에 있는 값(가장 마지막에 들어온 값)이 나가야 다음 값이 나갈 수 있음"
   ]
  },
  {
   "cell_type": "markdown",
   "id": "dd92d888",
   "metadata": {},
   "source": [
    "`-` queue : FIFO First In First Out 선입선출 구조\n",
    "\n",
    "* 선착순 느낌\n",
    "* 먼저 들어온 값이 먼저 나갈 수 있음"
   ]
  },
  {
   "cell_type": "markdown",
   "id": "482e92c1",
   "metadata": {},
   "source": [
    "`-` Dequeue : Stack + Queue\n",
    "\n",
    "* 양쪽이 뚫려있음\n",
    "* 후입선출 / 선입선출 가능"
   ]
  },
  {
   "cell_type": "markdown",
   "id": "596d5147",
   "metadata": {},
   "source": [
    "### D. Linked List 연결 리스트\n",
    "\n",
    "값들이 순차적으로 이어진 자료구조"
   ]
  },
  {
   "cell_type": "markdown",
   "id": "6dc4b6c6",
   "metadata": {},
   "source": [
    "* 값들이 연속되지 않은 메모리 공간에 독립적으로 저장되어 있음\n",
    "* 처음 원소에 값뿐만 아니라 다음 원소의 주소를 쌍으로 가지고 있음. 값과 포인터를 동시에 가지고 있음\n",
    "* 배열처럼 인덱스로 접근할 수 없음 -> 맨 처음부터 링크를 따라가면서 접근해야 함 -> 뒤의 원소일수록 추출에 더 많은 시간이 걸림"
   ]
  },
  {
   "cell_type": "markdown",
   "id": "0517001f",
   "metadata": {},
   "source": [
    "## 2. Stack"
   ]
  },
  {
   "cell_type": "markdown",
   "id": "37fc85ba",
   "metadata": {},
   "source": [
    "* 삽입 push : 위로 넣음\n",
    "* 삭제 pop : 위에 있는 걸 뺌\n",
    "* 맨 위의 값 반환, 스택 길이 반환 : top, len\n",
    "\n",
    "> 파이썬의 리스트로 stack과 동일하게 생각할 수 있음 -> push == append / pop == pop\n",
    ">\n",
    "> 하지만 스택에서는 push, pop만 가능하기 때문에 오류를 막을 수 있음"
   ]
  },
  {
   "cell_type": "code",
   "execution_count": null,
   "id": "5550ea61",
   "metadata": {},
   "outputs": [],
   "source": [
    "class Stack :\n",
    "    def __init__(self) :\n",
    "        self.items = []\n",
    "        \n",
    "    def __len__(self) :\n",
    "        return len(self.items) ## O(1) : 리스트 객체에 크기값 저장중\n",
    "        \n",
    "    def push(self, val) :\n",
    "        self.items.append(val) ## O(1) : 맨 뒤에 값 삽입\n",
    "    \n",
    "    def pop(self) :\n",
    "        try :\n",
    "            return self.items.pop() ## O(1) : 맨 뒤의 값 제거\n",
    "        except IndexError :\n",
    "            print(\"EmptyError : Stack is empty\")\n",
    "            \n",
    "    def top(self) :\n",
    "        try :\n",
    "            return self.items[-1] ## O(1) : 맨 뒤의 값 호출\n",
    "        except IndexError :\n",
    "            print(\"EmptyError : Stack is empty\")"
   ]
  },
  {
   "cell_type": "code",
   "execution_count": 36,
   "id": "4cc1f18a",
   "metadata": {},
   "outputs": [
    {
     "name": "stdout",
     "output_type": "stream",
     "text": [
      "2\n",
      "10\n",
      "1\n"
     ]
    }
   ],
   "source": [
    "s = Stack()\n",
    "s.push(10)\n",
    "s.push(2)\n",
    "\n",
    "print(s.pop())\n",
    "print(s.top())\n",
    "print(len(s))"
   ]
  },
  {
   "cell_type": "markdown",
   "id": "7e61efb7",
   "metadata": {},
   "source": [
    "`-` 스택으로 할 수 있는 일\n",
    "\n",
    "(예 1)\n",
    "\n",
    "* 괄호 맞추기\n",
    "\n",
    "> `(()())` : 쌍이 맞음\n",
    ">\n",
    "> `(()))(` : 쌍은 세 쌍이긴 하나, 짝이 안맞음\n",
    ">\n",
    "> `(`가 나오면 스택에 원소를 추가하고, `)`가 나오면 스택에 원소를 빼내는 식으로 파악 가능\n",
    "\n",
    "**문제**\n",
    "\n",
    "```{raw}\n",
    "input : 왼쪽, 오른쪽 괄호의 문자열\n",
    "output : 괄호쌍이 맞춰져 있으면 True, 아니면 False\n",
    "```"
   ]
  },
  {
   "cell_type": "code",
   "execution_count": 42,
   "id": "358ddad3",
   "metadata": {},
   "outputs": [
    {
     "name": "stdout",
     "output_type": "stream",
     "text": [
      "Your text include NON-VALID SYMBOL\n"
     ]
    }
   ],
   "source": [
    "txt = input()\n",
    "\n",
    "s = Stack()\n",
    "pair = True\n",
    "non_valid = False\n",
    "\n",
    "for t in txt :\n",
    "    if t == \"(\" :\n",
    "        s.push(1)\n",
    "    \n",
    "    elif t == \")\" :\n",
    "        if len(s) > 0 :\n",
    "            s.pop()\n",
    "        else :\n",
    "            pair = False\n",
    "            break\n",
    "        \n",
    "    else :\n",
    "        print(\"Your text include NON-VALID SYMBOL\")\n",
    "        non_valid = True\n",
    "        break\n",
    "\n",
    "if not (non_valid) :        \n",
    "    if len(s) > 0 :\n",
    "        print(False)\n",
    "    else :\n",
    "        print(pair)"
   ]
  },
  {
   "cell_type": "markdown",
   "id": "7a3d79c5",
   "metadata": {},
   "source": [
    "(예 2)\n",
    "\n",
    "* 계산기 코드 작성\n",
    "\n",
    "```{raw}\n",
    "input : 사칙연산이 포함된 수식 텍스트\n",
    "output : 연산 결과\n",
    "```\n",
    "\n",
    "> `2+3*5` 형태의 infix 수식 -> `235*+`의 postfix 수식\n",
    "\n",
    "1. 괄호 치기 : `(2+(3*5))`\n",
    "2. 연산자의 오른쪽 괄호 다음으로 연산자 이동\n",
    "3. 괄호 지우기 : `235*+`"
   ]
  },
  {
   "cell_type": "code",
   "execution_count": 66,
   "id": "ed848eb7",
   "metadata": {},
   "outputs": [
    {
     "name": "stdout",
     "output_type": "stream",
     "text": [
      "EmptyError : Stack is empty\n",
      "EmptyError : Stack is empty\n",
      "EmptyError : Stack is empty\n",
      "EmptyError : Stack is empty\n",
      "EmptyError : Stack is empty\n"
     ]
    }
   ],
   "source": [
    "txt = input()\n",
    "tokens = [\"(\", \"*\", \"/\", \"+\", \"-\", \")\"]\n",
    "splited_lst = []\n",
    "\n",
    "start = 0\n",
    "\n",
    "for i, t in enumerate(txt) :\n",
    "    if t in tokens :\n",
    "        if start != i :\n",
    "            splited_lst.append(txt[start:i])\n",
    "            \n",
    "        splited_lst.append(t)\n",
    "        start = i+1\n",
    "\n",
    "op_stack = Stack()\n",
    "output = []\n",
    "level_dict = {t:i for i, t in enumerate([\"(\", \"-\", \"+\", \"/\", \"*\", \")\"])}\n",
    "\n",
    "for t in splited_lst :\n",
    "    if t == \"(\" :\n",
    "        op_stack.push(t)\n",
    "        \n",
    "    elif t == \")\" :\n",
    "        for _ in range(len(splited_lst)) :\n",
    "            if op_stack.top == \"(\" :\n",
    "                op_stack.pop()\n",
    "                break\n",
    "            \n",
    "            output.append(op_stack.pop())\n",
    "        \n",
    "    elif t in {\"+\", \"-\", \"*\", \"/\"} :\n",
    "        if len(op_stack) == 0 :\n",
    "            op_stack.push(t)\n",
    "            \n",
    "        else :      \n",
    "            for _ in range(len(splited_lst)) :\n",
    "                if level_dict[op_stack.top()] < level_dict[t] :\n",
    "                    op_stack.push(t)\n",
    "                    break\n",
    "                \n",
    "                output.append(op_stack.pop())\n",
    "        \n",
    "    else :\n",
    "        output.append(t)\n",
    "\n",
    "while len(op_stack) > 0 :\n",
    "    output.append(op_stack.pop())"
   ]
  },
  {
   "cell_type": "code",
   "execution_count": 68,
   "id": "520b8861",
   "metadata": {},
   "outputs": [
    {
     "data": {
      "text/plain": [
       "['6', '3', '2', '-', '(', '+', None, None, None, None, None, '*']"
      ]
     },
     "execution_count": 68,
     "metadata": {},
     "output_type": "execute_result"
    }
   ],
   "source": [
    "output"
   ]
  },
  {
   "cell_type": "code",
   "execution_count": null,
   "id": "1f2403e6",
   "metadata": {},
   "outputs": [],
   "source": []
  }
 ],
 "metadata": {
  "kernelspec": {
   "display_name": "base",
   "language": "python",
   "name": "python3"
  },
  "language_info": {
   "codemirror_mode": {
    "name": "ipython",
    "version": 3
   },
   "file_extension": ".py",
   "mimetype": "text/x-python",
   "name": "python",
   "nbconvert_exporter": "python",
   "pygments_lexer": "ipython3",
   "version": "3.12.7"
  }
 },
 "nbformat": 4,
 "nbformat_minor": 5
}
