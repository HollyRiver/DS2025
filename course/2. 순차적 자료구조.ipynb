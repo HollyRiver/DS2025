{
 "cells": [
  {
   "cell_type": "markdown",
   "id": "2b70b278",
   "metadata": {},
   "source": [
    "# 순차적 자료구조"
   ]
  },
  {
   "cell_type": "markdown",
   "id": "2946b488",
   "metadata": {},
   "source": [
    "## 1. 개요"
   ]
  },
  {
   "cell_type": "markdown",
   "id": "1b7f12e4",
   "metadata": {},
   "source": [
    "### A. 배열과 리스트"
   ]
  },
  {
   "cell_type": "markdown",
   "id": "cab242a8",
   "metadata": {},
   "source": [
    "`-` array, list\n",
    "\n",
    "* 가장 기본적인 sequential 자료구조\n",
    "* 읽기와 쓰기는 $O(1)$ 기본연산임 -> 리스트 원소의 주소를 가져오는 방식 : `id(A[2]) == id(A[0]) + 2*4bytes`\n",
    "* 상수 시간 내에 개별 원소에 접근 가능한 자료구조를 배열이고 한다.\n",
    "\n",
    "`-` Python : `List[]`\n",
    "\n",
    "* 리스트의 각 원소가 따로 메모리를 차지함\n",
    "* 리스트 인덱스는 원소가 저장된 메모리 주소를 가리킴\n",
    "* 리스트 원소값을 바꿀 경우 객체는 그대로 남아있고, 인덱스가 가리키는 주소만 바뀌는 것임\n"
   ]
  },
  {
   "cell_type": "markdown",
   "id": "17ebf18f",
   "metadata": {},
   "source": [
    "`-` 리스트 사용\n",
    "\n",
    "> 인덱싱, 삽입(append, insert), 삭제(pop, remove) 연산 존재\n",
    ">\n",
    "> 맨뒤의 경우 $O(n)$, 중간에 있는 값에 대한 연산을 위해서는 $O(n)$\n",
    "\n",
    "* **`list().append()`** : 맨 뒤에 값을 삽입\n",
    "\n",
    "* **`list().insert(i, v)`** : i번째에 v값을 삽입\n",
    "\n",
    "* **`list().pop(i)`** : i번째 값을 제거하고 리턴\n",
    "\n",
    "* **`list().remove(v)`** : 리스트에서 v에 해당하는 값을 제거\n",
    "\n",
    "* **`list().index(v)`, `list().count(v)`** : v의 인덱스, v의 개수를 리턴"
   ]
  },
  {
   "cell_type": "code",
   "execution_count": 16,
   "id": "18451d08",
   "metadata": {},
   "outputs": [
    {
     "name": "stdout",
     "output_type": "stream",
     "text": [
      "A.append(6) : [2, 4, 0, 5, 6]\n",
      "A.insert(0, -3) : [-3, 2, 4, 0, 5, 6]\n",
      "A.pop(0) : -3\n",
      "result : [2, 4, 0, 5, 6]\n",
      "A.remove(0) : [2, 4, 5, 6]\n",
      "A.index(6) & A.count(6) : 3 & 1\n"
     ]
    }
   ],
   "source": [
    "A = [2, 4, 0, 5]\n",
    "\n",
    "A.append(6)\n",
    "print(f\"A.append(6) : {A}\")\n",
    "A.insert(0, -3)\n",
    "print(f\"A.insert(0, -3) : {A}\")\n",
    "print(f\"A.pop(0) : {A.pop(0)}\\nresult : {A}\")\n",
    "A.remove(0)\n",
    "print(f\"A.remove(0) : {A}\")\n",
    "print(f\"A.index(6) & A.count(6) : {A.index(6)} & {A.count(6)}\")"
   ]
  },
  {
   "cell_type": "markdown",
   "id": "25fcd981",
   "metadata": {},
   "source": [
    "### B. 파이썬의 리스트"
   ]
  },
  {
   "cell_type": "markdown",
   "id": "bacf396c",
   "metadata": {},
   "source": [
    "`-` Dynamic Array\n",
    "\n",
    "* 용량 Capacity 을 자동 조절"
   ]
  },
  {
   "cell_type": "code",
   "execution_count": null,
   "id": "3cc71da1",
   "metadata": {},
   "outputs": [
    {
     "name": "stdout",
     "output_type": "stream",
     "text": [
      "56\n",
      "88\n"
     ]
    }
   ],
   "source": [
    "import sys\n",
    "\n",
    "A = []\n",
    "print(sys.getsizeof(A)) ## A가 차지하는 메모리 사이즈를 리턴\n",
    "\n",
    "A.insert(0, 18)\n",
    "print(sys.getsizeof(A)) ## 차지하는 메모리 공간이 커짐"
   ]
  },
  {
   "cell_type": "markdown",
   "id": "db25e3e2",
   "metadata": {},
   "source": [
    "`-` `List class`\n",
    "\n",
    "* `capacity` : 용량 (초기 용량이 있음)\n",
    "* `n` : 현재 저장된 값의 개수 (default = 0)\n",
    "\n",
    "\n",
    "`A.append(x)`의 내부 동작 workflow\n",
    "\n",
    "```Python\n",
    "if A.n < A.capacity :\n",
    "    A[n] = x\n",
    "    A.n = n+1\n",
    "else :\n",
    "    ## 용량을 증가시킴\n",
    "    A.n == A.capacity\n",
    "    B = A.capacity*2 크기의 리스트\n",
    "\n",
    "    ## O(n)만큼의 시간 필요(대입 연산)\n",
    "    for i in range(n) :\n",
    "        B[i] = A[i]\n",
    "\n",
    "    del A\n",
    "    A = B\n",
    "\n",
    "    A[n] = x\n",
    "    A.n = n+1\n",
    "```\n"
   ]
  },
  {
   "cell_type": "markdown",
   "id": "2b3cd41d",
   "metadata": {},
   "source": [
    "### C. stack, queue, dequeue\n",
    "\n",
    "제한된 접근(삽입, 삭제)만 허용"
   ]
  },
  {
   "cell_type": "markdown",
   "id": "1353107c",
   "metadata": {},
   "source": [
    "`-` stack : LIFO Last In First Out 후입선출 구조\n",
    "\n",
    "* 위에서부터 차곡차곡 쌓이는 자료구조 : push\n",
    "* 위에 있는 값(가장 마지막에 들어온 값)이 나가야 다음 값이 나갈 수 있음"
   ]
  },
  {
   "cell_type": "markdown",
   "id": "dd92d888",
   "metadata": {},
   "source": [
    "`-` queue : FIFO First In First Out 선입선출 구조\n",
    "\n",
    "* 선착순 느낌\n",
    "* 먼저 들어온 값이 먼저 나갈 수 있음"
   ]
  },
  {
   "cell_type": "markdown",
   "id": "482e92c1",
   "metadata": {},
   "source": [
    "`-` Dequeue : Stack + Queue\n",
    "\n",
    "* 양쪽이 뚫려있음\n",
    "* 후입선출 / 선입선출 가능"
   ]
  },
  {
   "cell_type": "markdown",
   "id": "596d5147",
   "metadata": {},
   "source": [
    "### D. Linked List 연결 리스트\n",
    "\n",
    "값들이 순차적으로 이어진 자료구조"
   ]
  },
  {
   "cell_type": "markdown",
   "id": "6dc4b6c6",
   "metadata": {},
   "source": [
    "* 값들이 연속되지 않은 메모리 공간에 독립적으로 저장되어 있음\n",
    "* 처음 원소에 값뿐만 아니라 다음 원소의 주소를 쌍으로 가지고 있음. 값과 포인터를 동시에 가지고 있음\n",
    "* 배열처럼 인덱스로 접근할 수 없음 -> 맨 처음부터 링크를 따라가면서 접근해야 함 -> 뒤의 원소일수록 추출에 더 많은 시간이 걸림"
   ]
  },
  {
   "cell_type": "markdown",
   "id": "0517001f",
   "metadata": {},
   "source": [
    "## 2. Stack"
   ]
  },
  {
   "cell_type": "markdown",
   "id": "37fc85ba",
   "metadata": {},
   "source": [
    "* 삽입 push : 위로 넣음\n",
    "* 삭제 pop : 위에 있는 걸 뺌\n",
    "* 맨 위의 값 반환, 스택 길이 반환 : top, len\n",
    "\n",
    "> 파이썬의 리스트로 stack과 동일하게 생각할 수 있음 -> push == append / pop == pop\n",
    ">\n",
    "> 하지만 스택에서는 push, pop만 가능하기 때문에 오류를 막을 수 있음"
   ]
  },
  {
   "cell_type": "code",
   "execution_count": 2,
   "id": "5550ea61",
   "metadata": {},
   "outputs": [],
   "source": [
    "class Stack :\n",
    "    def __init__(self) :\n",
    "        self.items = []\n",
    "        \n",
    "    def __len__(self) :\n",
    "        return len(self.items) ## O(1) : 리스트 객체에 크기값 저장중\n",
    "        \n",
    "    def push(self, val) :\n",
    "        self.items.append(val) ## O(1) : 맨 뒤에 값 삽입\n",
    "    \n",
    "    def pop(self) :\n",
    "        try :\n",
    "            return self.items.pop() ## O(1) : 맨 뒤의 값 제거\n",
    "        except IndexError :\n",
    "            print(\"EmptyError : Stack is empty\")\n",
    "            \n",
    "    def top(self) :\n",
    "        try :\n",
    "            return self.items[-1] ## O(1) : 맨 뒤의 값 호출\n",
    "        except IndexError :\n",
    "            print(\"EmptyError : Stack is empty\")"
   ]
  },
  {
   "cell_type": "code",
   "execution_count": 36,
   "id": "4cc1f18a",
   "metadata": {},
   "outputs": [
    {
     "name": "stdout",
     "output_type": "stream",
     "text": [
      "2\n",
      "10\n",
      "1\n"
     ]
    }
   ],
   "source": [
    "s = Stack()\n",
    "s.push(10)\n",
    "s.push(2)\n",
    "\n",
    "print(s.pop())\n",
    "print(s.top())\n",
    "print(len(s))"
   ]
  },
  {
   "cell_type": "markdown",
   "id": "7e61efb7",
   "metadata": {},
   "source": [
    "`-` 스택으로 할 수 있는 일\n",
    "\n",
    "(예 1)\n",
    "\n",
    "* 괄호 맞추기\n",
    "\n",
    "> `(()())` : 쌍이 맞음\n",
    ">\n",
    "> `(()))(` : 쌍은 세 쌍이긴 하나, 짝이 안맞음\n",
    ">\n",
    "> `(`가 나오면 스택에 원소를 추가하고, `)`가 나오면 스택에 원소를 빼내는 식으로 파악 가능\n",
    "\n",
    "**문제**\n",
    "\n",
    "```{raw}\n",
    "input : 왼쪽, 오른쪽 괄호의 문자열\n",
    "output : 괄호쌍이 맞춰져 있으면 True, 아니면 False\n",
    "```"
   ]
  },
  {
   "cell_type": "code",
   "execution_count": 42,
   "id": "358ddad3",
   "metadata": {},
   "outputs": [
    {
     "name": "stdout",
     "output_type": "stream",
     "text": [
      "Your text include NON-VALID SYMBOL\n"
     ]
    }
   ],
   "source": [
    "txt = input()\n",
    "\n",
    "s = Stack()\n",
    "pair = True\n",
    "non_valid = False\n",
    "\n",
    "for t in txt :\n",
    "    if t == \"(\" :\n",
    "        s.push(1)\n",
    "    \n",
    "    elif t == \")\" :\n",
    "        if len(s) > 0 :\n",
    "            s.pop()\n",
    "        else :\n",
    "            pair = False\n",
    "            break\n",
    "        \n",
    "    else :\n",
    "        print(\"Your text include NON-VALID SYMBOL\")\n",
    "        non_valid = True\n",
    "        break\n",
    "\n",
    "if not (non_valid) :        \n",
    "    if len(s) > 0 :\n",
    "        print(False)\n",
    "    else :\n",
    "        print(pair)"
   ]
  },
  {
   "cell_type": "markdown",
   "id": "7a3d79c5",
   "metadata": {},
   "source": [
    "(예 2)\n",
    "\n",
    "* 계산기 코드 작성\n",
    "\n",
    "```{raw}\n",
    "input : 사칙연산이 포함된 수식 텍스트\n",
    "output : 연산 결과\n",
    "```\n",
    "\n",
    "> `2+3*5` 형태의 infix 수식 -> `235*+`의 postfix 수식\n",
    "\n",
    "1. 괄호 치기 : `(2+(3*5))`\n",
    "2. 연산자의 오른쪽 괄호 다음으로 연산자 이동\n",
    "3. 괄호 지우기 : `235*+`"
   ]
  },
  {
   "cell_type": "code",
   "execution_count": 37,
   "id": "ed848eb7",
   "metadata": {},
   "outputs": [
    {
     "name": "stdout",
     "output_type": "stream",
     "text": [
      "632-4*+\n"
     ]
    }
   ],
   "source": [
    "txt = input()\n",
    "tokens = [\"(\", \"*\", \"/\", \"+\", \"-\", \")\"]\n",
    "splited_lst = []\n",
    "\n",
    "start = 0\n",
    "\n",
    "for i, t in enumerate(txt) :\n",
    "    if t in tokens :\n",
    "        if start != i :\n",
    "            splited_lst.append(txt[start:i])\n",
    "            \n",
    "        splited_lst.append(t)\n",
    "        start = i+1\n",
    "\n",
    "splited_lst.append(txt[-(len(txt) - sum([len(t) for t in splited_lst])):])\n",
    "\n",
    "op_stack = Stack()\n",
    "output = []\n",
    "level_dict = {t:i for i, t in enumerate([\"(\", \"-\", \"+\", \"/\", \"*\", \")\"])}\n",
    "\n",
    "for t in splited_lst :\n",
    "    if t == \"(\" :\n",
    "        op_stack.push(t)\n",
    "        \n",
    "    elif t == \")\" :\n",
    "        for _ in range(len(splited_lst)) :\n",
    "            if op_stack.top() == \"(\" :\n",
    "                op_stack.pop()\n",
    "                break\n",
    "            \n",
    "            output.append(op_stack.pop())\n",
    "        \n",
    "    elif t in {\"+\", \"-\", \"*\", \"/\"} :\n",
    "        if len(op_stack) == 0 :\n",
    "            op_stack.push(t)\n",
    "            \n",
    "        else :      \n",
    "            for _ in range(len(splited_lst)) :\n",
    "                if level_dict[op_stack.top()] < level_dict[t] :\n",
    "                    op_stack.push(t)\n",
    "                    break\n",
    "                \n",
    "                output.append(op_stack.pop())\n",
    "        \n",
    "    else :\n",
    "        output.append(t)\n",
    "\n",
    "while len(op_stack) > 0 :\n",
    "    output.append(op_stack.pop())\n",
    "    \n",
    "print(\"\".join(output))"
   ]
  },
  {
   "cell_type": "code",
   "execution_count": 46,
   "id": "1f2403e6",
   "metadata": {},
   "outputs": [
    {
     "name": "stdout",
     "output_type": "stream",
     "text": [
      "result : 10\n"
     ]
    }
   ],
   "source": [
    "num_stack = Stack()\n",
    "\n",
    "for t in output :\n",
    "    if t in tokens :\n",
    "        b = int(num_stack.pop())\n",
    "        a = int(num_stack.pop())\n",
    "        \n",
    "        if t == \"+\" :\n",
    "            num_stack.push(a + b)\n",
    "        elif t == \"-\" :\n",
    "            num_stack.push(a - b)\n",
    "        elif t == \"*\" :\n",
    "            num_stack.push(a * b)\n",
    "        elif t == \"/\" :\n",
    "            num_stack.push(a / b)\n",
    "            \n",
    "    else :\n",
    "        num_stack.push(t)\n",
    "        \n",
    "print(f\"result : {num_stack.top()}\")"
   ]
  },
  {
   "cell_type": "markdown",
   "id": "7a00a12f",
   "metadata": {},
   "source": [
    "## 3. Queue : FIFO"
   ]
  },
  {
   "cell_type": "markdown",
   "id": "a08548ce",
   "metadata": {},
   "source": [
    "* 삽입 : `enqueue` -> 가장 깊은 곳에 자리잡음\n",
    "* 제거 : `dequeue` -> 가장 먼저 들어갔던 값이 제거됨\n",
    "\n",
    "> 두 개의 인덱스가 필요함 : 어느 인덱스로 들어올지, 어느 인덱스의 것이 제거될지"
   ]
  },
  {
   "cell_type": "code",
   "execution_count": 66,
   "id": "2a9bb3d3",
   "metadata": {},
   "outputs": [
    {
     "data": {
      "text/plain": [
       "'[1, 2]'"
      ]
     },
     "execution_count": 66,
     "metadata": {},
     "output_type": "execute_result"
    }
   ],
   "source": [
    "[1, 2].__repr__()"
   ]
  },
  {
   "cell_type": "code",
   "execution_count": 70,
   "id": "9e777877",
   "metadata": {},
   "outputs": [],
   "source": [
    "class Queue :\n",
    "    def __init__(self) :\n",
    "        self.items = []\n",
    "        self.front_index = 0\n",
    "        \n",
    "    def __len__(self) :\n",
    "        return len(self.items) - self.front_index\n",
    "    \n",
    "    def __repr__(self) :\n",
    "        return self.items[self.front_index:].__repr__()\n",
    "    \n",
    "    def enqueue(self, val) :\n",
    "        self.items.append(val)\n",
    "        \n",
    "    def dequeue(self) :\n",
    "        ## 삭제하면 다른 모든 원소들의 인덱스가 이동해야 하므로 O(n) -> 리스트의 시작 지점을 바꾸는 것으로 삭제의 효과를 볼 수 있음\n",
    "        if self.front_index == len(self.items) :\n",
    "            print(\"Your Queue is EMPTY\")\n",
    "            \n",
    "        else :\n",
    "            x = self.items[self.front_index]\n",
    "            self.front_index += 1\n",
    "            return x"
   ]
  },
  {
   "cell_type": "code",
   "execution_count": 72,
   "id": "0e9cc72b",
   "metadata": {},
   "outputs": [
    {
     "name": "stdout",
     "output_type": "stream",
     "text": [
      "result : [3, 4]\n",
      "length : 2\n"
     ]
    }
   ],
   "source": [
    "q = Queue()\n",
    "\n",
    "q.enqueue(1)\n",
    "q.enqueue(2)\n",
    "\n",
    "q.dequeue()\n",
    "q.dequeue()\n",
    "\n",
    "q.enqueue(3)\n",
    "q.enqueue(4)\n",
    "\n",
    "print(f\"result : {q}\\nlength : {len(q)}\")"
   ]
  },
  {
   "cell_type": "markdown",
   "id": "522da063",
   "metadata": {},
   "source": [
    "`-` 큐 활용의 예시\n",
    "\n",
    "**(Josephus Problem)**\n",
    "\n",
    "전투 중에 군인들이 동굴에 갇혀 적들에게 포위됨, 특정 규칙에 따라 나가서 싸우자.\n",
    "\n",
    "* n과 k가 주어짐. 누가 살아남을 것인가?\n",
    "* k번째 사람이 나가고, 그 사람 다음 k번째 사람이 나가고, 반복해서 하나가 남을 때까지"
   ]
  },
  {
   "cell_type": "code",
   "execution_count": 74,
   "id": "ac5fcfa1",
   "metadata": {},
   "outputs": [
    {
     "name": "stdout",
     "output_type": "stream",
     "text": [
      "1\n"
     ]
    }
   ],
   "source": [
    "n, k = map(int, input().split())\n",
    "\n",
    "Q = Queue()\n",
    "\n",
    "for i in range(1, n+1) :\n",
    "    Q.enqueue(i)\n",
    "\n",
    "for i in range(n) :\n",
    "    for j in range(k-1) :\n",
    "        Q.enqueue(Q.dequeue())\n",
    "    \n",
    "    last = Q.dequeue()\n",
    "    \n",
    "print(last)"
   ]
  },
  {
   "cell_type": "markdown",
   "id": "26225f8d",
   "metadata": {},
   "source": [
    "> 파이썬의 경우 `collections.deque`로 활용 가능함"
   ]
  },
  {
   "cell_type": "markdown",
   "id": "552a420b",
   "metadata": {},
   "source": [
    "## 4. 한방향 연결 리스트 Singly Linked List"
   ]
  },
  {
   "cell_type": "markdown",
   "id": "8b2ce114",
   "metadata": {},
   "source": [
    "&nbsp;배열의 경우 연속적으로 메모리가 할당되어 있기 때문에 i번째 원소의 id를 상수시간 안에 계산 가능하지만, 연결 리스트의 경우 $O(n)$이 걸림"
   ]
  },
  {
   "cell_type": "markdown",
   "id": "a680eb06",
   "metadata": {},
   "source": [
    "* 원소가 저장되는 곳에 data(key)와 link가 같이 저장됨. (key, link) --> node\n",
    "* 마지막 노드는 링크로 NULL을 반환함\n",
    "* head node로부터 link를 따라가며 i번째 원소를 추적할 수밖에 없음\n",
    "* key 이외에도 더 많은 정보를 추가할 수 있음 ㅇㅇ"
   ]
  },
  {
   "cell_type": "markdown",
   "id": "0af08a79",
   "metadata": {},
   "source": [
    "`-` 특장점 : insert\n",
    "\n",
    "* 배열에서 중간에 값을 삽입하고자 하면, 그 뒤의 모든 값들을 뒤로 밀어야 함 -> $O(n)$\n",
    "* linked list에서는 중간 노드의 link를 새로운 데이터로 바꾸고, 해당 노드의 링크를 다음 데이터의 링크로 설정 -> $O(1)$ : 단, 중간 노드의 주소를 알고 있어야 함"
   ]
  },
  {
   "cell_type": "markdown",
   "id": "737dd0d1",
   "metadata": {},
   "source": [
    "`-` 양방향 연결 리스트\n",
    "\n",
    "* 노드 하나에 key값 하나와 link 두 개를 가짐"
   ]
  },
  {
   "cell_type": "code",
   "execution_count": 76,
   "id": "e19ac179",
   "metadata": {},
   "outputs": [],
   "source": [
    "class Node :\n",
    "    def __init__(self, key = None) :\n",
    "        self.key = key\n",
    "        self.next = None\n",
    "        \n",
    "    def __str__(self) :\n",
    "        return str(self.key)"
   ]
  },
  {
   "cell_type": "code",
   "execution_count": 77,
   "id": "616ca092",
   "metadata": {},
   "outputs": [],
   "source": [
    "a = Node(3)\n",
    "b = Node(9)\n",
    "c = Node(-1)\n",
    "\n",
    "a.next = b\n",
    "b.next = c"
   ]
  },
  {
   "cell_type": "code",
   "execution_count": null,
   "id": "6f95f19a",
   "metadata": {},
   "outputs": [],
   "source": [
    "class SinglyLinkedList :\n",
    "    def __init__(self) :\n",
    "        self.head = None\n",
    "        self.size = 0\n",
    "        \n",
    "    def __len__(self) :\n",
    "        return self.size\n",
    "    \n",
    "    def __iter__(self) :\n",
    "        ## 제너레이터 생성 : 왜 iterator 안쓰징\n",
    "        v = self.head\n",
    "        \n",
    "        while v != None :\n",
    "            yield v ## v를 호출한 곳으로 return\n",
    "            v = v.next\n",
    "    \n",
    "    def PushFront(self, key) :\n",
    "        new_node = Node(key) ## 새 노드를 만들고\n",
    "        new_node.next = self.head ## 새 노드의 링크를 업데이트해주고(이전의 헤드 노드)\n",
    "        self.head = new_node ## 새 노드를 헤드노드로 바꿔주고\n",
    "        self.size += 1 ## 연결 리스트의 사이즈를 갱신\n",
    "        \n",
    "    def PushBack(self, key) :\n",
    "        new_node = Node(key)\n",
    "        \n",
    "        if len(self) == 0 :\n",
    "            self.head = new_node ## 아무것도 없는 빈 리스트의 tail node를 갱신하면, head node 갱신과 동일\n",
    "            \n",
    "        else :\n",
    "            tail = self.head.next ## 새로운 노드를 맨 뒤에 부착하기 위해 순차적으로 호출\n",
    "            \n",
    "            while tail.next != None :\n",
    "                tail = tail.next\n",
    "            \n",
    "            # for _ in range(self.size-1) :\n",
    "            #     tail = tail.next\n",
    "            \n",
    "            tail.next = new_node\n",
    "            \n",
    "        self.size += 1\n",
    "        \n",
    "    def popFront(self) :\n",
    "        if len(self) == 0 :\n",
    "            return None\n",
    "        \n",
    "        else :\n",
    "            x = self.head\n",
    "            key = x.key\n",
    "            self.head = x.next\n",
    "            self.size -= 1\n",
    "            del x ## 메모리 삭제\n",
    "\n",
    "            return key\n",
    "        \n",
    "    def popBack(self) :\n",
    "        if len(self) == 0 :\n",
    "            return None\n",
    "        \n",
    "        else :\n",
    "            ## Running Technique\n",
    "            prev, tail = None, self.head\n",
    "            \n",
    "            while tail.next != None :\n",
    "                prev = tail\n",
    "                tail = tail.next\n",
    "            \n",
    "            if len(self) == 1 :\n",
    "                self.head = None\n",
    "            else :\n",
    "                prev.next = tail.next ## None\n",
    "                \n",
    "            key = tail.key\n",
    "            self.size -= 1\n",
    "            del tail\n",
    "            \n",
    "            return key\n",
    "        \n",
    "    def search(self, key) :\n",
    "        ## key값이 있는 노드를 리턴, 없으면 None 리턴 : O(n)\n",
    "        v = self.head\n",
    "        \n",
    "        while v != None :\n",
    "            if v.key == key :\n",
    "                return v\n",
    "            else :\n",
    "                v = v.next\n",
    "                \n",
    "        return v ## None"
   ]
  },
  {
   "cell_type": "code",
   "execution_count": 82,
   "id": "51b946dc",
   "metadata": {},
   "outputs": [],
   "source": [
    "L = SinglyLinkedList()\n",
    "L.PushFront(-1) ## 앞에 와서 붙는 형태(뒤에 와서 붙으면 O(n)이니까 의미가 없음...)\n",
    "L.PushFront(9) ## 9 -> -1\n",
    "L.PushFront(3) ## 3 -> 9 -> -1"
   ]
  },
  {
   "cell_type": "markdown",
   "id": "ad8b10ca",
   "metadata": {},
   "source": [
    "## 5. 양방향 연결 리스트 Doubly Linked List"
   ]
  },
  {
   "cell_type": "markdown",
   "id": "2b5dbf36",
   "metadata": {},
   "source": []
  }
 ],
 "metadata": {
  "kernelspec": {
   "display_name": "base",
   "language": "python",
   "name": "python3"
  },
  "language_info": {
   "codemirror_mode": {
    "name": "ipython",
    "version": 3
   },
   "file_extension": ".py",
   "mimetype": "text/x-python",
   "name": "python",
   "nbconvert_exporter": "python",
   "pygments_lexer": "ipython3",
   "version": "3.12.7"
  }
 },
 "nbformat": 4,
 "nbformat_minor": 5
}
